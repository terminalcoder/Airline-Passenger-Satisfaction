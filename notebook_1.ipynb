{
 "cells": [
  {
   "cell_type": "markdown",
   "metadata": {},
   "source": [
    "# Airline Passenger Satisfaction\n",
    "Elimelech Berlin  \n",
    "October 2023"
   ]
  },
  {
   "cell_type": "markdown",
   "metadata": {},
   "source": [
    "## Overview"
   ]
  },
  {
   "cell_type": "markdown",
   "metadata": {},
   "source": [
    "## Data"
   ]
  },
  {
   "cell_type": "markdown",
   "metadata": {},
   "source": [
    "## EDA"
   ]
  },
  {
   "cell_type": "code",
   "execution_count": 32,
   "metadata": {},
   "outputs": [],
   "source": [
    "import zipfile\n",
    "import pandas as pd\n",
    "import seaborn as sns"
   ]
  },
  {
   "cell_type": "code",
   "execution_count": 3,
   "metadata": {},
   "outputs": [],
   "source": [
    "# open zipped file & create a dataframe for ech of the train/test subsets of the data\n",
    "with zipfile.ZipFile('data/archive.zip', 'r') as zipped_file:\n",
    "    for file in zipped_file.namelist():\n",
    "        file_csv = zipped_file.open(file)\n",
    "        file_df = pd.read_csv(file_csv)\n",
    "        if file == 'test.csv':\n",
    "            test_df = file_df\n",
    "        if file == 'train.csv':\n",
    "            train_df = file_df"
   ]
  },
  {
   "cell_type": "code",
   "execution_count": 33,
   "metadata": {},
   "outputs": [
    {
     "name": "stdout",
     "output_type": "stream",
     "text": [
      "# of rows in the train set: 103904\n",
      "# of rows in the test set: 25976\n",
      "This is equal to a train/test split of 80/20\n"
     ]
    }
   ],
   "source": [
    "print('# of rows in the train set: {}'.format(len(train_df)))\n",
    "print('# of rows in the test set: {}'.format(len(test_df)))\n",
    "print('This is equal to a train/test split of {}/{}'.format(int(len(train_df) / (len(train_df) + len(test_df)) * 100), int(len(test_df) / (len(train_df) + len(test_df)) * 100)))"
   ]
  },
  {
   "cell_type": "markdown",
   "metadata": {},
   "source": [
    "To gain understanding of the dataset, have a look at the column names:"
   ]
  },
  {
   "cell_type": "code",
   "execution_count": 34,
   "metadata": {},
   "outputs": [
    {
     "data": {
      "text/plain": [
       "Index(['Unnamed: 0', 'id', 'Gender', 'Customer Type', 'Age', 'Type of Travel',\n",
       "       'Class', 'Flight Distance', 'Inflight wifi service',\n",
       "       'Departure/Arrival time convenient', 'Ease of Online booking',\n",
       "       'Gate location', 'Food and drink', 'Online boarding', 'Seat comfort',\n",
       "       'Inflight entertainment', 'On-board service', 'Leg room service',\n",
       "       'Baggage handling', 'Checkin service', 'Inflight service',\n",
       "       'Cleanliness', 'Departure Delay in Minutes', 'Arrival Delay in Minutes',\n",
       "       'satisfaction'],\n",
       "      dtype='object')"
      ]
     },
     "execution_count": 34,
     "metadata": {},
     "output_type": "execute_result"
    }
   ],
   "source": [
    "train_df.columns"
   ]
  },
  {
   "cell_type": "markdown",
   "metadata": {},
   "source": [
    "Accurding to the written down stuff about the data provided with the data, some of the columns contain subjective information provided by consumers surveyed about their past experiences. Such information may not be available when predicting overall satisfaction prior to a customer's survey response & should therefore be excluded from any model employed to predict a rating in order to bribe a customer at high risk of dissatisfaction in order to change his/her mind. (If the point of a model is too know who will be dissatisfied, in order to take measures to preemptively bribe them, we can't use as of yet unprovided ratings on 'food & drink service' to predict that info. A solution to this can be to request ratings for different elements of consumer experience as the service is provided. i.e. customers are asked to rate ease-of-online booking service immediately upon completion of booking, not as part of an overall survey.)"
   ]
  }
 ],
 "metadata": {
  "kernelspec": {
   "display_name": "Python 3",
   "language": "python",
   "name": "python3"
  },
  "language_info": {
   "codemirror_mode": {
    "name": "ipython",
    "version": 3
   },
   "file_extension": ".py",
   "mimetype": "text/x-python",
   "name": "python",
   "nbconvert_exporter": "python",
   "pygments_lexer": "ipython3",
   "version": "3.8.5"
  }
 },
 "nbformat": 4,
 "nbformat_minor": 4
}

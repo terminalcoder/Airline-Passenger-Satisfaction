{
 "cells": [
  {
   "cell_type": "markdown",
   "metadata": {},
   "source": [
    "# Airline Passenger Satisfaction\n",
    "Elimelech Berlin  \n",
    "October 2023"
   ]
  },
  {
   "cell_type": "markdown",
   "metadata": {},
   "source": [
    "## Overview"
   ]
  },
  {
   "cell_type": "markdown",
   "metadata": {},
   "source": [
    "## Data"
   ]
  },
  {
   "cell_type": "markdown",
   "metadata": {},
   "source": [
    "## EDA"
   ]
  },
  {
   "cell_type": "code",
   "execution_count": 84,
   "metadata": {},
   "outputs": [],
   "source": [
    "import zipfile\n",
    "import pandas as pd\n",
    "import matplotlib.pyplot as plt\n",
    "import seaborn as sns\n",
    "from sklearn.preprocessing import OneHotEncoder, StandardScaler\n",
    "from sklearn.linear_model import LogisticRegression\n",
    "from sklearn.metrics import classification_report, recall_score\n",
    "from sklearn.ensemble import RandomForestClassifier\n",
    "from sklearn.model_selection import GridSearchCV\n",
    "\n",
    "plt.style.use('seaborn-v0_8')"
   ]
  },
  {
   "cell_type": "code",
   "execution_count": 34,
   "metadata": {},
   "outputs": [
    {
     "data": {
      "text/plain": [
       "['Solarize_Light2',\n",
       " '_classic_test_patch',\n",
       " '_mpl-gallery',\n",
       " '_mpl-gallery-nogrid',\n",
       " 'bmh',\n",
       " 'classic',\n",
       " 'dark_background',\n",
       " 'fast',\n",
       " 'fivethirtyeight',\n",
       " 'ggplot',\n",
       " 'grayscale',\n",
       " 'seaborn-v0_8',\n",
       " 'seaborn-v0_8-bright',\n",
       " 'seaborn-v0_8-colorblind',\n",
       " 'seaborn-v0_8-dark',\n",
       " 'seaborn-v0_8-dark-palette',\n",
       " 'seaborn-v0_8-darkgrid',\n",
       " 'seaborn-v0_8-deep',\n",
       " 'seaborn-v0_8-muted',\n",
       " 'seaborn-v0_8-notebook',\n",
       " 'seaborn-v0_8-paper',\n",
       " 'seaborn-v0_8-pastel',\n",
       " 'seaborn-v0_8-poster',\n",
       " 'seaborn-v0_8-talk',\n",
       " 'seaborn-v0_8-ticks',\n",
       " 'seaborn-v0_8-white',\n",
       " 'seaborn-v0_8-whitegrid',\n",
       " 'tableau-colorblind10']"
      ]
     },
     "execution_count": 34,
     "metadata": {},
     "output_type": "execute_result"
    }
   ],
   "source": [
    "plt.style.available"
   ]
  },
  {
   "cell_type": "code",
   "execution_count": 2,
   "metadata": {},
   "outputs": [],
   "source": [
    "# open zipped file & create a dataframe for each of the train/test subsets of the data\n",
    "with zipfile.ZipFile('data/archive.zip', 'r') as zipped_file:\n",
    "    for file in zipped_file.namelist():\n",
    "        file_csv = zipped_file.open(file)\n",
    "        file_df = pd.read_csv(file_csv)\n",
    "        if file == 'test.csv':\n",
    "            test_df = file_df\n",
    "        if file == 'train.csv':\n",
    "            train_df = file_df"
   ]
  },
  {
   "cell_type": "code",
   "execution_count": 3,
   "metadata": {},
   "outputs": [
    {
     "name": "stdout",
     "output_type": "stream",
     "text": [
      "# of rows in the train set: 103904\n",
      "# of rows in the test set: 25976\n",
      "This is equal to a train/test split of 80/20\n"
     ]
    }
   ],
   "source": [
    "print('# of rows in the train set: {}'.format(len(train_df)))\n",
    "print('# of rows in the test set: {}'.format(len(test_df)))\n",
    "print('This is equal to a train/test split of {}/{}'.format(int(len(train_df) / (len(train_df) + len(test_df)) * 100), int(len(test_df) / (len(train_df) + len(test_df)) * 100)))"
   ]
  },
  {
   "cell_type": "markdown",
   "metadata": {},
   "source": [
    "To gain understanding of the dataset lets get a list of the dataframes columns & preview the first 5 rows:"
   ]
  },
  {
   "cell_type": "code",
   "execution_count": 4,
   "metadata": {},
   "outputs": [
    {
     "data": {
      "text/plain": [
       "Index(['Unnamed: 0', 'id', 'Gender', 'Customer Type', 'Age', 'Type of Travel',\n",
       "       'Class', 'Flight Distance', 'Inflight wifi service',\n",
       "       'Departure/Arrival time convenient', 'Ease of Online booking',\n",
       "       'Gate location', 'Food and drink', 'Online boarding', 'Seat comfort',\n",
       "       'Inflight entertainment', 'On-board service', 'Leg room service',\n",
       "       'Baggage handling', 'Checkin service', 'Inflight service',\n",
       "       'Cleanliness', 'Departure Delay in Minutes', 'Arrival Delay in Minutes',\n",
       "       'satisfaction'],\n",
       "      dtype='object')"
      ]
     },
     "execution_count": 4,
     "metadata": {},
     "output_type": "execute_result"
    }
   ],
   "source": [
    "# list column names\n",
    "train_df.columns"
   ]
  },
  {
   "cell_type": "code",
   "execution_count": 5,
   "metadata": {},
   "outputs": [
    {
     "data": {
      "text/html": [
       "<div>\n",
       "<style scoped>\n",
       "    .dataframe tbody tr th:only-of-type {\n",
       "        vertical-align: middle;\n",
       "    }\n",
       "\n",
       "    .dataframe tbody tr th {\n",
       "        vertical-align: top;\n",
       "    }\n",
       "\n",
       "    .dataframe thead th {\n",
       "        text-align: right;\n",
       "    }\n",
       "</style>\n",
       "<table border=\"1\" class=\"dataframe\">\n",
       "  <thead>\n",
       "    <tr style=\"text-align: right;\">\n",
       "      <th></th>\n",
       "      <th>Unnamed: 0</th>\n",
       "      <th>id</th>\n",
       "      <th>Gender</th>\n",
       "      <th>Customer Type</th>\n",
       "      <th>Age</th>\n",
       "      <th>Type of Travel</th>\n",
       "      <th>Class</th>\n",
       "      <th>Flight Distance</th>\n",
       "      <th>Inflight wifi service</th>\n",
       "      <th>Departure/Arrival time convenient</th>\n",
       "      <th>...</th>\n",
       "      <th>Inflight entertainment</th>\n",
       "      <th>On-board service</th>\n",
       "      <th>Leg room service</th>\n",
       "      <th>Baggage handling</th>\n",
       "      <th>Checkin service</th>\n",
       "      <th>Inflight service</th>\n",
       "      <th>Cleanliness</th>\n",
       "      <th>Departure Delay in Minutes</th>\n",
       "      <th>Arrival Delay in Minutes</th>\n",
       "      <th>satisfaction</th>\n",
       "    </tr>\n",
       "  </thead>\n",
       "  <tbody>\n",
       "    <tr>\n",
       "      <th>0</th>\n",
       "      <td>0</td>\n",
       "      <td>70172</td>\n",
       "      <td>Male</td>\n",
       "      <td>Loyal Customer</td>\n",
       "      <td>13</td>\n",
       "      <td>Personal Travel</td>\n",
       "      <td>Eco Plus</td>\n",
       "      <td>460</td>\n",
       "      <td>3</td>\n",
       "      <td>4</td>\n",
       "      <td>...</td>\n",
       "      <td>5</td>\n",
       "      <td>4</td>\n",
       "      <td>3</td>\n",
       "      <td>4</td>\n",
       "      <td>4</td>\n",
       "      <td>5</td>\n",
       "      <td>5</td>\n",
       "      <td>25</td>\n",
       "      <td>18.0</td>\n",
       "      <td>neutral or dissatisfied</td>\n",
       "    </tr>\n",
       "    <tr>\n",
       "      <th>1</th>\n",
       "      <td>1</td>\n",
       "      <td>5047</td>\n",
       "      <td>Male</td>\n",
       "      <td>disloyal Customer</td>\n",
       "      <td>25</td>\n",
       "      <td>Business travel</td>\n",
       "      <td>Business</td>\n",
       "      <td>235</td>\n",
       "      <td>3</td>\n",
       "      <td>2</td>\n",
       "      <td>...</td>\n",
       "      <td>1</td>\n",
       "      <td>1</td>\n",
       "      <td>5</td>\n",
       "      <td>3</td>\n",
       "      <td>1</td>\n",
       "      <td>4</td>\n",
       "      <td>1</td>\n",
       "      <td>1</td>\n",
       "      <td>6.0</td>\n",
       "      <td>neutral or dissatisfied</td>\n",
       "    </tr>\n",
       "    <tr>\n",
       "      <th>2</th>\n",
       "      <td>2</td>\n",
       "      <td>110028</td>\n",
       "      <td>Female</td>\n",
       "      <td>Loyal Customer</td>\n",
       "      <td>26</td>\n",
       "      <td>Business travel</td>\n",
       "      <td>Business</td>\n",
       "      <td>1142</td>\n",
       "      <td>2</td>\n",
       "      <td>2</td>\n",
       "      <td>...</td>\n",
       "      <td>5</td>\n",
       "      <td>4</td>\n",
       "      <td>3</td>\n",
       "      <td>4</td>\n",
       "      <td>4</td>\n",
       "      <td>4</td>\n",
       "      <td>5</td>\n",
       "      <td>0</td>\n",
       "      <td>0.0</td>\n",
       "      <td>satisfied</td>\n",
       "    </tr>\n",
       "    <tr>\n",
       "      <th>3</th>\n",
       "      <td>3</td>\n",
       "      <td>24026</td>\n",
       "      <td>Female</td>\n",
       "      <td>Loyal Customer</td>\n",
       "      <td>25</td>\n",
       "      <td>Business travel</td>\n",
       "      <td>Business</td>\n",
       "      <td>562</td>\n",
       "      <td>2</td>\n",
       "      <td>5</td>\n",
       "      <td>...</td>\n",
       "      <td>2</td>\n",
       "      <td>2</td>\n",
       "      <td>5</td>\n",
       "      <td>3</td>\n",
       "      <td>1</td>\n",
       "      <td>4</td>\n",
       "      <td>2</td>\n",
       "      <td>11</td>\n",
       "      <td>9.0</td>\n",
       "      <td>neutral or dissatisfied</td>\n",
       "    </tr>\n",
       "    <tr>\n",
       "      <th>4</th>\n",
       "      <td>4</td>\n",
       "      <td>119299</td>\n",
       "      <td>Male</td>\n",
       "      <td>Loyal Customer</td>\n",
       "      <td>61</td>\n",
       "      <td>Business travel</td>\n",
       "      <td>Business</td>\n",
       "      <td>214</td>\n",
       "      <td>3</td>\n",
       "      <td>3</td>\n",
       "      <td>...</td>\n",
       "      <td>3</td>\n",
       "      <td>3</td>\n",
       "      <td>4</td>\n",
       "      <td>4</td>\n",
       "      <td>3</td>\n",
       "      <td>3</td>\n",
       "      <td>3</td>\n",
       "      <td>0</td>\n",
       "      <td>0.0</td>\n",
       "      <td>satisfied</td>\n",
       "    </tr>\n",
       "  </tbody>\n",
       "</table>\n",
       "<p>5 rows × 25 columns</p>\n",
       "</div>"
      ],
      "text/plain": [
       "   Unnamed: 0      id  Gender      Customer Type  Age   Type of Travel  \\\n",
       "0           0   70172    Male     Loyal Customer   13  Personal Travel   \n",
       "1           1    5047    Male  disloyal Customer   25  Business travel   \n",
       "2           2  110028  Female     Loyal Customer   26  Business travel   \n",
       "3           3   24026  Female     Loyal Customer   25  Business travel   \n",
       "4           4  119299    Male     Loyal Customer   61  Business travel   \n",
       "\n",
       "      Class  Flight Distance  Inflight wifi service  \\\n",
       "0  Eco Plus              460                      3   \n",
       "1  Business              235                      3   \n",
       "2  Business             1142                      2   \n",
       "3  Business              562                      2   \n",
       "4  Business              214                      3   \n",
       "\n",
       "   Departure/Arrival time convenient  ...  Inflight entertainment  \\\n",
       "0                                  4  ...                       5   \n",
       "1                                  2  ...                       1   \n",
       "2                                  2  ...                       5   \n",
       "3                                  5  ...                       2   \n",
       "4                                  3  ...                       3   \n",
       "\n",
       "   On-board service  Leg room service  Baggage handling  Checkin service  \\\n",
       "0                 4                 3                 4                4   \n",
       "1                 1                 5                 3                1   \n",
       "2                 4                 3                 4                4   \n",
       "3                 2                 5                 3                1   \n",
       "4                 3                 4                 4                3   \n",
       "\n",
       "   Inflight service  Cleanliness  Departure Delay in Minutes  \\\n",
       "0                 5            5                          25   \n",
       "1                 4            1                           1   \n",
       "2                 4            5                           0   \n",
       "3                 4            2                          11   \n",
       "4                 3            3                           0   \n",
       "\n",
       "   Arrival Delay in Minutes             satisfaction  \n",
       "0                      18.0  neutral or dissatisfied  \n",
       "1                       6.0  neutral or dissatisfied  \n",
       "2                       0.0                satisfied  \n",
       "3                       9.0  neutral or dissatisfied  \n",
       "4                       0.0                satisfied  \n",
       "\n",
       "[5 rows x 25 columns]"
      ]
     },
     "execution_count": 5,
     "metadata": {},
     "output_type": "execute_result"
    }
   ],
   "source": [
    "# view first 5 rows of the dataframe\n",
    "train_df.head()"
   ]
  },
  {
   "cell_type": "markdown",
   "metadata": {},
   "source": [
    "> 2 points emerge from the above output:\n",
    ">* In this report `'satisfaction'` is the target feature to be predicted by the rest of the features present in the dataset.  \n",
    ">* Two columns are clearly irrelevant to this report: `'Unnamed: 0'` & `'id'`. Let's remove them from the dataframe:"
   ]
  },
  {
   "cell_type": "code",
   "execution_count": 6,
   "metadata": {},
   "outputs": [],
   "source": [
    "train_df.drop(['Unnamed: 0', 'id'], axis=1, inplace=True)"
   ]
  },
  {
   "cell_type": "code",
   "execution_count": 7,
   "metadata": {},
   "outputs": [],
   "source": [
    "# preprocessing performed to the test set\n",
    "test_df.drop(['Unnamed: 0', 'id'], axis=1, inplace=True)"
   ]
  },
  {
   "cell_type": "markdown",
   "metadata": {},
   "source": [
    "Accurding to the written down stuff about the data provided with the data, some of the columns contain subjective information provided by consumers surveyed about their past experiences. Such information may not be available when predicting overall satisfaction prior to a customer's survey response & should therefore be excluded from any model employed to predict a rating in order to bribe a customer at high risk of dissatisfaction in order to change his/her mind. (If the point of a model is too know who will be dissatisfied, in order to take measures to preemptively bribe them, we can't use as of yet unprovided ratings on 'food & drink service' to predict that info. A solution to this can be to request ratings for different elements of consumer experience as the service is provided. i.e. customers are asked to rate ease-of-online booking service immediately upon completion of booking, not as part of an overall survey.)"
   ]
  },
  {
   "cell_type": "markdown",
   "metadata": {},
   "source": [
    "Now, check for missing values:"
   ]
  },
  {
   "cell_type": "code",
   "execution_count": 8,
   "metadata": {},
   "outputs": [
    {
     "data": {
      "text/plain": [
       "Gender                                 0\n",
       "Customer Type                          0\n",
       "Age                                    0\n",
       "Type of Travel                         0\n",
       "Class                                  0\n",
       "Flight Distance                        0\n",
       "Inflight wifi service                  0\n",
       "Departure/Arrival time convenient      0\n",
       "Ease of Online booking                 0\n",
       "Gate location                          0\n",
       "Food and drink                         0\n",
       "Online boarding                        0\n",
       "Seat comfort                           0\n",
       "Inflight entertainment                 0\n",
       "On-board service                       0\n",
       "Leg room service                       0\n",
       "Baggage handling                       0\n",
       "Checkin service                        0\n",
       "Inflight service                       0\n",
       "Cleanliness                            0\n",
       "Departure Delay in Minutes             0\n",
       "Arrival Delay in Minutes             310\n",
       "satisfaction                           0\n",
       "dtype: int64"
      ]
     },
     "execution_count": 8,
     "metadata": {},
     "output_type": "execute_result"
    }
   ],
   "source": [
    "# train subset\n",
    "train_df.isna().sum()"
   ]
  },
  {
   "cell_type": "code",
   "execution_count": 9,
   "metadata": {},
   "outputs": [
    {
     "data": {
      "text/plain": [
       "Gender                                0\n",
       "Customer Type                         0\n",
       "Age                                   0\n",
       "Type of Travel                        0\n",
       "Class                                 0\n",
       "Flight Distance                       0\n",
       "Inflight wifi service                 0\n",
       "Departure/Arrival time convenient     0\n",
       "Ease of Online booking                0\n",
       "Gate location                         0\n",
       "Food and drink                        0\n",
       "Online boarding                       0\n",
       "Seat comfort                          0\n",
       "Inflight entertainment                0\n",
       "On-board service                      0\n",
       "Leg room service                      0\n",
       "Baggage handling                      0\n",
       "Checkin service                       0\n",
       "Inflight service                      0\n",
       "Cleanliness                           0\n",
       "Departure Delay in Minutes            0\n",
       "Arrival Delay in Minutes             83\n",
       "satisfaction                          0\n",
       "dtype: int64"
      ]
     },
     "execution_count": 9,
     "metadata": {},
     "output_type": "execute_result"
    }
   ],
   "source": [
    "# test subset\n",
    "test_df.isna().sum()"
   ]
  },
  {
   "cell_type": "markdown",
   "metadata": {},
   "source": [
    "> The only column with missing values is `'Arrival Delay in Minutes'`. This cannot be understood as there being no delay for a given flight, as this would be recorded as `'0'` as seen for many such records present in the data:"
   ]
  },
  {
   "cell_type": "code",
   "execution_count": 10,
   "metadata": {},
   "outputs": [
    {
     "data": {
      "text/plain": [
       "Arrival Delay in Minutes\n",
       "0.0      58159\n",
       "1.0       2211\n",
       "2.0       2064\n",
       "3.0       1952\n",
       "4.0       1907\n",
       "         ...  \n",
       "458.0        1\n",
       "729.0        1\n",
       "382.0        1\n",
       "459.0        1\n",
       "369.0        1\n",
       "Name: count, Length: 455, dtype: int64"
      ]
     },
     "execution_count": 10,
     "metadata": {},
     "output_type": "execute_result"
    }
   ],
   "source": [
    "train_df['Arrival Delay in Minutes'].value_counts()"
   ]
  },
  {
   "cell_type": "markdown",
   "metadata": {},
   "source": [
    "> There are thousands of rows with `'0'` recorded for arrival delay, so null doesn't necasserily mean there wasn't a delay.\n",
    "Let's impute the mean of the column's values for those that are missing;"
   ]
  },
  {
   "cell_type": "code",
   "execution_count": 11,
   "metadata": {
    "scrolled": false
   },
   "outputs": [
    {
     "data": {
      "text/plain": [
       "Arrival Delay in Minutes\n",
       "False    103904\n",
       "Name: count, dtype: int64"
      ]
     },
     "execution_count": 11,
     "metadata": {},
     "output_type": "execute_result"
    }
   ],
   "source": [
    "# train subset\n",
    "# impute missing values with column mean\n",
    "train_df['Arrival Delay in Minutes'].fillna(train_df['Arrival Delay in Minutes'].mean(), inplace=True)\n",
    "\n",
    "# check to ensure that null values were replaced\n",
    "train_df['Arrival Delay in Minutes'].isna().value_counts()"
   ]
  },
  {
   "cell_type": "code",
   "execution_count": 12,
   "metadata": {},
   "outputs": [
    {
     "data": {
      "text/plain": [
       "Arrival Delay in Minutes\n",
       "False    25976\n",
       "Name: count, dtype: int64"
      ]
     },
     "execution_count": 12,
     "metadata": {},
     "output_type": "execute_result"
    }
   ],
   "source": [
    "# test subset\n",
    "# impute missing values with column mean\n",
    "test_df['Arrival Delay in Minutes'].fillna(test_df['Arrival Delay in Minutes'].mean(), inplace=True)\n",
    "\n",
    "# check to ensure that null values were replaced\n",
    "test_df['Arrival Delay in Minutes'].isna().value_counts()"
   ]
  },
  {
   "cell_type": "markdown",
   "metadata": {},
   "source": [
    "Let's continue the preprocessing step by examining data types present in each column:"
   ]
  },
  {
   "cell_type": "code",
   "execution_count": 13,
   "metadata": {},
   "outputs": [
    {
     "data": {
      "text/plain": [
       "Gender                                object\n",
       "Customer Type                         object\n",
       "Age                                    int64\n",
       "Type of Travel                        object\n",
       "Class                                 object\n",
       "Flight Distance                        int64\n",
       "Inflight wifi service                  int64\n",
       "Departure/Arrival time convenient      int64\n",
       "Ease of Online booking                 int64\n",
       "Gate location                          int64\n",
       "Food and drink                         int64\n",
       "Online boarding                        int64\n",
       "Seat comfort                           int64\n",
       "Inflight entertainment                 int64\n",
       "On-board service                       int64\n",
       "Leg room service                       int64\n",
       "Baggage handling                       int64\n",
       "Checkin service                        int64\n",
       "Inflight service                       int64\n",
       "Cleanliness                            int64\n",
       "Departure Delay in Minutes             int64\n",
       "Arrival Delay in Minutes             float64\n",
       "satisfaction                          object\n",
       "dtype: object"
      ]
     },
     "execution_count": 13,
     "metadata": {},
     "output_type": "execute_result"
    }
   ],
   "source": [
    "train_df.dtypes"
   ]
  },
  {
   "cell_type": "markdown",
   "metadata": {},
   "source": [
    "> Several columns contain non-numeric data types. These most be modified before any attempt at modelling. Columns with binary values can be simply mapped to `'0'` or `'1'`; columns with more than 2 values must be one-hot encoded."
   ]
  },
  {
   "cell_type": "code",
   "execution_count": 14,
   "metadata": {},
   "outputs": [
    {
     "data": {
      "text/plain": [
       "['Gender', 'Customer Type', 'Type of Travel', 'Class', 'satisfaction']"
      ]
     },
     "execution_count": 14,
     "metadata": {},
     "output_type": "execute_result"
    }
   ],
   "source": [
    "# get a list of non-numeric categorical columns\n",
    "xnum_cols = [col for col in train_df.columns if train_df[col].dtype == 'object']\n",
    "# view list\n",
    "xnum_cols"
   ]
  },
  {
   "cell_type": "code",
   "execution_count": 15,
   "metadata": {},
   "outputs": [
    {
     "name": "stdout",
     "output_type": "stream",
     "text": [
      "Gender ['Male' 'Female']\n",
      "Customer Type ['Loyal Customer' 'disloyal Customer']\n",
      "Type of Travel ['Personal Travel' 'Business travel']\n",
      "satisfaction ['neutral or dissatisfied' 'satisfied']\n"
     ]
    }
   ],
   "source": [
    "# create column with binary values\n",
    "# identify categorical columns with binary values\n",
    "for col in xnum_cols:\n",
    "#     modify only columns with binary values\n",
    "    if len(train_df[col].unique()) == 2:\n",
    "#         display column name, values\n",
    "        print(col, train_df[col].unique())\n",
    "#         get name for new column\n",
    "        new_name = train_df[col].unique()[1]\n",
    "#         create column with second unique value & map values to binary\n",
    "        train_df[new_name] = train_df[col].map({train_df[col].unique()[0]:0, train_df[col].unique()[1]:1})\n",
    "#         modify set dataframe    \n",
    "        test_df[new_name] = test_df[col].map({test_df[col].unique()[0]:0, test_df[col].unique()[1]:1})\n",
    "    #   remove original column\n",
    "    train_df.drop(col, axis=1, inplace=True)\n",
    "    test_df.drop(col, axis=1, inplace=True)"
   ]
  },
  {
   "cell_type": "code",
   "execution_count": 16,
   "metadata": {},
   "outputs": [
    {
     "data": {
      "text/plain": [
       "Index(['Age', 'Flight Distance', 'Inflight wifi service',\n",
       "       'Departure/Arrival time convenient', 'Ease of Online booking',\n",
       "       'Gate location', 'Food and drink', 'Online boarding', 'Seat comfort',\n",
       "       'Inflight entertainment', 'On-board service', 'Leg room service',\n",
       "       'Baggage handling', 'Checkin service', 'Inflight service',\n",
       "       'Cleanliness', 'Departure Delay in Minutes', 'Arrival Delay in Minutes',\n",
       "       'Female', 'disloyal Customer', 'Business travel', 'satisfied'],\n",
       "      dtype='object')"
      ]
     },
     "execution_count": 16,
     "metadata": {},
     "output_type": "execute_result"
    }
   ],
   "source": [
    "train_df.columns"
   ]
  },
  {
   "cell_type": "markdown",
   "metadata": {},
   "source": [
    "> The above output reveals that the column `'disloyal Customer'` describes a customer's loyalty status. To keep things as intuitive as possible, switch the column to be describing a positive state (customer loyalty) instead of a negative state (customer disloyalty)."
   ]
  },
  {
   "cell_type": "code",
   "execution_count": 17,
   "metadata": {},
   "outputs": [
    {
     "data": {
      "text/html": [
       "<div>\n",
       "<style scoped>\n",
       "    .dataframe tbody tr th:only-of-type {\n",
       "        vertical-align: middle;\n",
       "    }\n",
       "\n",
       "    .dataframe tbody tr th {\n",
       "        vertical-align: top;\n",
       "    }\n",
       "\n",
       "    .dataframe thead th {\n",
       "        text-align: right;\n",
       "    }\n",
       "</style>\n",
       "<table border=\"1\" class=\"dataframe\">\n",
       "  <thead>\n",
       "    <tr style=\"text-align: right;\">\n",
       "      <th></th>\n",
       "      <th>disloyal Customer</th>\n",
       "      <th>Loyal Customer</th>\n",
       "    </tr>\n",
       "  </thead>\n",
       "  <tbody>\n",
       "    <tr>\n",
       "      <th>0</th>\n",
       "      <td>0</td>\n",
       "      <td>1</td>\n",
       "    </tr>\n",
       "    <tr>\n",
       "      <th>1</th>\n",
       "      <td>1</td>\n",
       "      <td>0</td>\n",
       "    </tr>\n",
       "    <tr>\n",
       "      <th>2</th>\n",
       "      <td>0</td>\n",
       "      <td>1</td>\n",
       "    </tr>\n",
       "    <tr>\n",
       "      <th>3</th>\n",
       "      <td>0</td>\n",
       "      <td>1</td>\n",
       "    </tr>\n",
       "    <tr>\n",
       "      <th>4</th>\n",
       "      <td>0</td>\n",
       "      <td>1</td>\n",
       "    </tr>\n",
       "    <tr>\n",
       "      <th>...</th>\n",
       "      <td>...</td>\n",
       "      <td>...</td>\n",
       "    </tr>\n",
       "    <tr>\n",
       "      <th>103899</th>\n",
       "      <td>1</td>\n",
       "      <td>0</td>\n",
       "    </tr>\n",
       "    <tr>\n",
       "      <th>103900</th>\n",
       "      <td>0</td>\n",
       "      <td>1</td>\n",
       "    </tr>\n",
       "    <tr>\n",
       "      <th>103901</th>\n",
       "      <td>1</td>\n",
       "      <td>0</td>\n",
       "    </tr>\n",
       "    <tr>\n",
       "      <th>103902</th>\n",
       "      <td>1</td>\n",
       "      <td>0</td>\n",
       "    </tr>\n",
       "    <tr>\n",
       "      <th>103903</th>\n",
       "      <td>0</td>\n",
       "      <td>1</td>\n",
       "    </tr>\n",
       "  </tbody>\n",
       "</table>\n",
       "<p>103904 rows × 2 columns</p>\n",
       "</div>"
      ],
      "text/plain": [
       "        disloyal Customer  Loyal Customer\n",
       "0                       0               1\n",
       "1                       1               0\n",
       "2                       0               1\n",
       "3                       0               1\n",
       "4                       0               1\n",
       "...                   ...             ...\n",
       "103899                  1               0\n",
       "103900                  0               1\n",
       "103901                  1               0\n",
       "103902                  1               0\n",
       "103903                  0               1\n",
       "\n",
       "[103904 rows x 2 columns]"
      ]
     },
     "execution_count": 17,
     "metadata": {},
     "output_type": "execute_result"
    }
   ],
   "source": [
    "# replace 'disloyal Customer' with 'Loyal Customer'\n",
    "# create 'Loyal Customer' column\n",
    "train_df['Loyal Customer'] = train_df['disloyal Customer'].map({0:1, 1:0})\n",
    "test_df['Loyal Customer'] = test_df['disloyal Customer'].map({0:1, 1:0})\n",
    "\n",
    "# view both columns to ensure the values are oppposites of each other\n",
    "train_df[['disloyal Customer', 'Loyal Customer']]"
   ]
  },
  {
   "cell_type": "code",
   "execution_count": 18,
   "metadata": {},
   "outputs": [],
   "source": [
    "# remove 'disloyal Customer' column\n",
    "train_df.drop('disloyal Customer', axis=1, inplace=True)\n",
    "test_df.drop('disloyal Customer', axis=1, inplace=True)"
   ]
  },
  {
   "cell_type": "markdown",
   "metadata": {},
   "source": [
    "Now, one-hot encode categorical column with more than 2 values:"
   ]
  },
  {
   "cell_type": "code",
   "execution_count": 19,
   "metadata": {},
   "outputs": [
    {
     "data": {
      "text/html": [
       "<div>\n",
       "<style scoped>\n",
       "    .dataframe tbody tr th:only-of-type {\n",
       "        vertical-align: middle;\n",
       "    }\n",
       "\n",
       "    .dataframe tbody tr th {\n",
       "        vertical-align: top;\n",
       "    }\n",
       "\n",
       "    .dataframe thead th {\n",
       "        text-align: right;\n",
       "    }\n",
       "</style>\n",
       "<table border=\"1\" class=\"dataframe\">\n",
       "  <thead>\n",
       "    <tr style=\"text-align: right;\">\n",
       "      <th></th>\n",
       "      <th>Age</th>\n",
       "      <th>Flight Distance</th>\n",
       "      <th>Inflight wifi service</th>\n",
       "      <th>Departure/Arrival time convenient</th>\n",
       "      <th>Ease of Online booking</th>\n",
       "      <th>Gate location</th>\n",
       "      <th>Food and drink</th>\n",
       "      <th>Online boarding</th>\n",
       "      <th>Seat comfort</th>\n",
       "      <th>Inflight entertainment</th>\n",
       "      <th>...</th>\n",
       "      <th>Baggage handling</th>\n",
       "      <th>Checkin service</th>\n",
       "      <th>Inflight service</th>\n",
       "      <th>Cleanliness</th>\n",
       "      <th>Departure Delay in Minutes</th>\n",
       "      <th>Arrival Delay in Minutes</th>\n",
       "      <th>Female</th>\n",
       "      <th>Business travel</th>\n",
       "      <th>satisfied</th>\n",
       "      <th>Loyal Customer</th>\n",
       "    </tr>\n",
       "  </thead>\n",
       "  <tbody>\n",
       "    <tr>\n",
       "      <th>0</th>\n",
       "      <td>13</td>\n",
       "      <td>460</td>\n",
       "      <td>3</td>\n",
       "      <td>4</td>\n",
       "      <td>3</td>\n",
       "      <td>1</td>\n",
       "      <td>5</td>\n",
       "      <td>3</td>\n",
       "      <td>5</td>\n",
       "      <td>5</td>\n",
       "      <td>...</td>\n",
       "      <td>4</td>\n",
       "      <td>4</td>\n",
       "      <td>5</td>\n",
       "      <td>5</td>\n",
       "      <td>25</td>\n",
       "      <td>18.0</td>\n",
       "      <td>0</td>\n",
       "      <td>0</td>\n",
       "      <td>0</td>\n",
       "      <td>1</td>\n",
       "    </tr>\n",
       "    <tr>\n",
       "      <th>1</th>\n",
       "      <td>25</td>\n",
       "      <td>235</td>\n",
       "      <td>3</td>\n",
       "      <td>2</td>\n",
       "      <td>3</td>\n",
       "      <td>3</td>\n",
       "      <td>1</td>\n",
       "      <td>3</td>\n",
       "      <td>1</td>\n",
       "      <td>1</td>\n",
       "      <td>...</td>\n",
       "      <td>3</td>\n",
       "      <td>1</td>\n",
       "      <td>4</td>\n",
       "      <td>1</td>\n",
       "      <td>1</td>\n",
       "      <td>6.0</td>\n",
       "      <td>0</td>\n",
       "      <td>1</td>\n",
       "      <td>0</td>\n",
       "      <td>0</td>\n",
       "    </tr>\n",
       "    <tr>\n",
       "      <th>2</th>\n",
       "      <td>26</td>\n",
       "      <td>1142</td>\n",
       "      <td>2</td>\n",
       "      <td>2</td>\n",
       "      <td>2</td>\n",
       "      <td>2</td>\n",
       "      <td>5</td>\n",
       "      <td>5</td>\n",
       "      <td>5</td>\n",
       "      <td>5</td>\n",
       "      <td>...</td>\n",
       "      <td>4</td>\n",
       "      <td>4</td>\n",
       "      <td>4</td>\n",
       "      <td>5</td>\n",
       "      <td>0</td>\n",
       "      <td>0.0</td>\n",
       "      <td>1</td>\n",
       "      <td>1</td>\n",
       "      <td>1</td>\n",
       "      <td>1</td>\n",
       "    </tr>\n",
       "    <tr>\n",
       "      <th>3</th>\n",
       "      <td>25</td>\n",
       "      <td>562</td>\n",
       "      <td>2</td>\n",
       "      <td>5</td>\n",
       "      <td>5</td>\n",
       "      <td>5</td>\n",
       "      <td>2</td>\n",
       "      <td>2</td>\n",
       "      <td>2</td>\n",
       "      <td>2</td>\n",
       "      <td>...</td>\n",
       "      <td>3</td>\n",
       "      <td>1</td>\n",
       "      <td>4</td>\n",
       "      <td>2</td>\n",
       "      <td>11</td>\n",
       "      <td>9.0</td>\n",
       "      <td>1</td>\n",
       "      <td>1</td>\n",
       "      <td>0</td>\n",
       "      <td>1</td>\n",
       "    </tr>\n",
       "    <tr>\n",
       "      <th>4</th>\n",
       "      <td>61</td>\n",
       "      <td>214</td>\n",
       "      <td>3</td>\n",
       "      <td>3</td>\n",
       "      <td>3</td>\n",
       "      <td>3</td>\n",
       "      <td>4</td>\n",
       "      <td>5</td>\n",
       "      <td>5</td>\n",
       "      <td>3</td>\n",
       "      <td>...</td>\n",
       "      <td>4</td>\n",
       "      <td>3</td>\n",
       "      <td>3</td>\n",
       "      <td>3</td>\n",
       "      <td>0</td>\n",
       "      <td>0.0</td>\n",
       "      <td>0</td>\n",
       "      <td>1</td>\n",
       "      <td>1</td>\n",
       "      <td>1</td>\n",
       "    </tr>\n",
       "    <tr>\n",
       "      <th>...</th>\n",
       "      <td>...</td>\n",
       "      <td>...</td>\n",
       "      <td>...</td>\n",
       "      <td>...</td>\n",
       "      <td>...</td>\n",
       "      <td>...</td>\n",
       "      <td>...</td>\n",
       "      <td>...</td>\n",
       "      <td>...</td>\n",
       "      <td>...</td>\n",
       "      <td>...</td>\n",
       "      <td>...</td>\n",
       "      <td>...</td>\n",
       "      <td>...</td>\n",
       "      <td>...</td>\n",
       "      <td>...</td>\n",
       "      <td>...</td>\n",
       "      <td>...</td>\n",
       "      <td>...</td>\n",
       "      <td>...</td>\n",
       "      <td>...</td>\n",
       "    </tr>\n",
       "    <tr>\n",
       "      <th>103899</th>\n",
       "      <td>23</td>\n",
       "      <td>192</td>\n",
       "      <td>2</td>\n",
       "      <td>1</td>\n",
       "      <td>2</td>\n",
       "      <td>3</td>\n",
       "      <td>2</td>\n",
       "      <td>2</td>\n",
       "      <td>2</td>\n",
       "      <td>2</td>\n",
       "      <td>...</td>\n",
       "      <td>4</td>\n",
       "      <td>2</td>\n",
       "      <td>3</td>\n",
       "      <td>2</td>\n",
       "      <td>3</td>\n",
       "      <td>0.0</td>\n",
       "      <td>1</td>\n",
       "      <td>1</td>\n",
       "      <td>0</td>\n",
       "      <td>0</td>\n",
       "    </tr>\n",
       "    <tr>\n",
       "      <th>103900</th>\n",
       "      <td>49</td>\n",
       "      <td>2347</td>\n",
       "      <td>4</td>\n",
       "      <td>4</td>\n",
       "      <td>4</td>\n",
       "      <td>4</td>\n",
       "      <td>2</td>\n",
       "      <td>4</td>\n",
       "      <td>5</td>\n",
       "      <td>5</td>\n",
       "      <td>...</td>\n",
       "      <td>5</td>\n",
       "      <td>5</td>\n",
       "      <td>5</td>\n",
       "      <td>4</td>\n",
       "      <td>0</td>\n",
       "      <td>0.0</td>\n",
       "      <td>0</td>\n",
       "      <td>1</td>\n",
       "      <td>1</td>\n",
       "      <td>1</td>\n",
       "    </tr>\n",
       "    <tr>\n",
       "      <th>103901</th>\n",
       "      <td>30</td>\n",
       "      <td>1995</td>\n",
       "      <td>1</td>\n",
       "      <td>1</td>\n",
       "      <td>1</td>\n",
       "      <td>3</td>\n",
       "      <td>4</td>\n",
       "      <td>1</td>\n",
       "      <td>5</td>\n",
       "      <td>4</td>\n",
       "      <td>...</td>\n",
       "      <td>4</td>\n",
       "      <td>5</td>\n",
       "      <td>5</td>\n",
       "      <td>4</td>\n",
       "      <td>7</td>\n",
       "      <td>14.0</td>\n",
       "      <td>0</td>\n",
       "      <td>1</td>\n",
       "      <td>0</td>\n",
       "      <td>0</td>\n",
       "    </tr>\n",
       "    <tr>\n",
       "      <th>103902</th>\n",
       "      <td>22</td>\n",
       "      <td>1000</td>\n",
       "      <td>1</td>\n",
       "      <td>1</td>\n",
       "      <td>1</td>\n",
       "      <td>5</td>\n",
       "      <td>1</td>\n",
       "      <td>1</td>\n",
       "      <td>1</td>\n",
       "      <td>1</td>\n",
       "      <td>...</td>\n",
       "      <td>1</td>\n",
       "      <td>5</td>\n",
       "      <td>4</td>\n",
       "      <td>1</td>\n",
       "      <td>0</td>\n",
       "      <td>0.0</td>\n",
       "      <td>1</td>\n",
       "      <td>1</td>\n",
       "      <td>0</td>\n",
       "      <td>0</td>\n",
       "    </tr>\n",
       "    <tr>\n",
       "      <th>103903</th>\n",
       "      <td>27</td>\n",
       "      <td>1723</td>\n",
       "      <td>1</td>\n",
       "      <td>3</td>\n",
       "      <td>3</td>\n",
       "      <td>3</td>\n",
       "      <td>1</td>\n",
       "      <td>1</td>\n",
       "      <td>1</td>\n",
       "      <td>1</td>\n",
       "      <td>...</td>\n",
       "      <td>4</td>\n",
       "      <td>4</td>\n",
       "      <td>3</td>\n",
       "      <td>1</td>\n",
       "      <td>0</td>\n",
       "      <td>0.0</td>\n",
       "      <td>0</td>\n",
       "      <td>1</td>\n",
       "      <td>0</td>\n",
       "      <td>1</td>\n",
       "    </tr>\n",
       "  </tbody>\n",
       "</table>\n",
       "<p>103904 rows × 22 columns</p>\n",
       "</div>"
      ],
      "text/plain": [
       "        Age  Flight Distance  Inflight wifi service  \\\n",
       "0        13              460                      3   \n",
       "1        25              235                      3   \n",
       "2        26             1142                      2   \n",
       "3        25              562                      2   \n",
       "4        61              214                      3   \n",
       "...     ...              ...                    ...   \n",
       "103899   23              192                      2   \n",
       "103900   49             2347                      4   \n",
       "103901   30             1995                      1   \n",
       "103902   22             1000                      1   \n",
       "103903   27             1723                      1   \n",
       "\n",
       "        Departure/Arrival time convenient  Ease of Online booking  \\\n",
       "0                                       4                       3   \n",
       "1                                       2                       3   \n",
       "2                                       2                       2   \n",
       "3                                       5                       5   \n",
       "4                                       3                       3   \n",
       "...                                   ...                     ...   \n",
       "103899                                  1                       2   \n",
       "103900                                  4                       4   \n",
       "103901                                  1                       1   \n",
       "103902                                  1                       1   \n",
       "103903                                  3                       3   \n",
       "\n",
       "        Gate location  Food and drink  Online boarding  Seat comfort  \\\n",
       "0                   1               5                3             5   \n",
       "1                   3               1                3             1   \n",
       "2                   2               5                5             5   \n",
       "3                   5               2                2             2   \n",
       "4                   3               4                5             5   \n",
       "...               ...             ...              ...           ...   \n",
       "103899              3               2                2             2   \n",
       "103900              4               2                4             5   \n",
       "103901              3               4                1             5   \n",
       "103902              5               1                1             1   \n",
       "103903              3               1                1             1   \n",
       "\n",
       "        Inflight entertainment  ...  Baggage handling  Checkin service  \\\n",
       "0                            5  ...                 4                4   \n",
       "1                            1  ...                 3                1   \n",
       "2                            5  ...                 4                4   \n",
       "3                            2  ...                 3                1   \n",
       "4                            3  ...                 4                3   \n",
       "...                        ...  ...               ...              ...   \n",
       "103899                       2  ...                 4                2   \n",
       "103900                       5  ...                 5                5   \n",
       "103901                       4  ...                 4                5   \n",
       "103902                       1  ...                 1                5   \n",
       "103903                       1  ...                 4                4   \n",
       "\n",
       "        Inflight service  Cleanliness  Departure Delay in Minutes  \\\n",
       "0                      5            5                          25   \n",
       "1                      4            1                           1   \n",
       "2                      4            5                           0   \n",
       "3                      4            2                          11   \n",
       "4                      3            3                           0   \n",
       "...                  ...          ...                         ...   \n",
       "103899                 3            2                           3   \n",
       "103900                 5            4                           0   \n",
       "103901                 5            4                           7   \n",
       "103902                 4            1                           0   \n",
       "103903                 3            1                           0   \n",
       "\n",
       "        Arrival Delay in Minutes  Female  Business travel  satisfied  \\\n",
       "0                           18.0       0                0          0   \n",
       "1                            6.0       0                1          0   \n",
       "2                            0.0       1                1          1   \n",
       "3                            9.0       1                1          0   \n",
       "4                            0.0       0                1          1   \n",
       "...                          ...     ...              ...        ...   \n",
       "103899                       0.0       1                1          0   \n",
       "103900                       0.0       0                1          1   \n",
       "103901                      14.0       0                1          0   \n",
       "103902                       0.0       1                1          0   \n",
       "103903                       0.0       0                1          0   \n",
       "\n",
       "        Loyal Customer  \n",
       "0                    1  \n",
       "1                    0  \n",
       "2                    1  \n",
       "3                    1  \n",
       "4                    1  \n",
       "...                ...  \n",
       "103899               0  \n",
       "103900               1  \n",
       "103901               0  \n",
       "103902               0  \n",
       "103903               1  \n",
       "\n",
       "[103904 rows x 22 columns]"
      ]
     },
     "execution_count": 19,
     "metadata": {},
     "output_type": "execute_result"
    }
   ],
   "source": [
    "# one hot encode remaining categorical columns\n",
    "all_num_train_df = pd.get_dummies(train_df)\n",
    "all_num_train_df"
   ]
  },
  {
   "cell_type": "code",
   "execution_count": 20,
   "metadata": {},
   "outputs": [],
   "source": [
    "all_num_test_df = pd.get_dummies(test_df)"
   ]
  },
  {
   "cell_type": "code",
   "execution_count": 21,
   "metadata": {},
   "outputs": [],
   "source": [
    "# ensure the subsets have the same column names\n",
    "assert [col for col in all_num_train_df.columns] == [col for col in all_num_test_df.columns]"
   ]
  },
  {
   "cell_type": "markdown",
   "metadata": {},
   "source": [
    "To check data for any obvious patterns or autocorrelation, view a corellation heatmap:"
   ]
  },
  {
   "cell_type": "code",
   "execution_count": 59,
   "metadata": {},
   "outputs": [
    {
     "data": {
      "text/html": [
       "<div>\n",
       "<style scoped>\n",
       "    .dataframe tbody tr th:only-of-type {\n",
       "        vertical-align: middle;\n",
       "    }\n",
       "\n",
       "    .dataframe tbody tr th {\n",
       "        vertical-align: top;\n",
       "    }\n",
       "\n",
       "    .dataframe thead th {\n",
       "        text-align: right;\n",
       "    }\n",
       "</style>\n",
       "<table border=\"1\" class=\"dataframe\">\n",
       "  <thead>\n",
       "    <tr style=\"text-align: right;\">\n",
       "      <th></th>\n",
       "      <th>Age</th>\n",
       "      <th>Flight Distance</th>\n",
       "      <th>Inflight wifi service</th>\n",
       "      <th>Departure/Arrival time convenient</th>\n",
       "      <th>Ease of Online booking</th>\n",
       "      <th>Gate location</th>\n",
       "      <th>Food and drink</th>\n",
       "      <th>Online boarding</th>\n",
       "      <th>Seat comfort</th>\n",
       "      <th>Inflight entertainment</th>\n",
       "      <th>...</th>\n",
       "      <th>Leg room service</th>\n",
       "      <th>Baggage handling</th>\n",
       "      <th>Checkin service</th>\n",
       "      <th>Inflight service</th>\n",
       "      <th>Cleanliness</th>\n",
       "      <th>Arrival Delay in Minutes</th>\n",
       "      <th>Female</th>\n",
       "      <th>Business travel</th>\n",
       "      <th>satisfied</th>\n",
       "      <th>Loyal Customer</th>\n",
       "    </tr>\n",
       "  </thead>\n",
       "  <tbody>\n",
       "    <tr>\n",
       "      <th>Age</th>\n",
       "      <td>1.000000</td>\n",
       "      <td>0.099461</td>\n",
       "      <td>0.017859</td>\n",
       "      <td>0.038125</td>\n",
       "      <td>0.024842</td>\n",
       "      <td>-0.001330</td>\n",
       "      <td>0.023000</td>\n",
       "      <td>0.208939</td>\n",
       "      <td>0.160277</td>\n",
       "      <td>0.076444</td>\n",
       "      <td>...</td>\n",
       "      <td>0.040583</td>\n",
       "      <td>-0.047529</td>\n",
       "      <td>0.035482</td>\n",
       "      <td>-0.049427</td>\n",
       "      <td>0.053611</td>\n",
       "      <td>-0.012127</td>\n",
       "      <td>-0.008928</td>\n",
       "      <td>0.048524</td>\n",
       "      <td>0.137167</td>\n",
       "      <td>0.281674</td>\n",
       "    </tr>\n",
       "    <tr>\n",
       "      <th>Flight Distance</th>\n",
       "      <td>0.099461</td>\n",
       "      <td>1.000000</td>\n",
       "      <td>0.007131</td>\n",
       "      <td>-0.020043</td>\n",
       "      <td>0.065717</td>\n",
       "      <td>0.004793</td>\n",
       "      <td>0.056994</td>\n",
       "      <td>0.214869</td>\n",
       "      <td>0.157333</td>\n",
       "      <td>0.128740</td>\n",
       "      <td>...</td>\n",
       "      <td>0.133916</td>\n",
       "      <td>0.063184</td>\n",
       "      <td>0.073072</td>\n",
       "      <td>0.057540</td>\n",
       "      <td>0.093149</td>\n",
       "      <td>-0.002423</td>\n",
       "      <td>-0.005828</td>\n",
       "      <td>0.267344</td>\n",
       "      <td>0.298780</td>\n",
       "      <td>0.225200</td>\n",
       "    </tr>\n",
       "    <tr>\n",
       "      <th>Inflight wifi service</th>\n",
       "      <td>0.017859</td>\n",
       "      <td>0.007131</td>\n",
       "      <td>1.000000</td>\n",
       "      <td>0.343845</td>\n",
       "      <td>0.715856</td>\n",
       "      <td>0.336248</td>\n",
       "      <td>0.134718</td>\n",
       "      <td>0.456970</td>\n",
       "      <td>0.122658</td>\n",
       "      <td>0.209321</td>\n",
       "      <td>...</td>\n",
       "      <td>0.160473</td>\n",
       "      <td>0.120923</td>\n",
       "      <td>0.043193</td>\n",
       "      <td>0.110441</td>\n",
       "      <td>0.132698</td>\n",
       "      <td>-0.019067</td>\n",
       "      <td>-0.008974</td>\n",
       "      <td>0.105085</td>\n",
       "      <td>0.284245</td>\n",
       "      <td>0.007543</td>\n",
       "    </tr>\n",
       "    <tr>\n",
       "      <th>Departure/Arrival time convenient</th>\n",
       "      <td>0.038125</td>\n",
       "      <td>-0.020043</td>\n",
       "      <td>0.343845</td>\n",
       "      <td>1.000000</td>\n",
       "      <td>0.436961</td>\n",
       "      <td>0.444757</td>\n",
       "      <td>0.004906</td>\n",
       "      <td>0.070119</td>\n",
       "      <td>0.011344</td>\n",
       "      <td>-0.004861</td>\n",
       "      <td>...</td>\n",
       "      <td>0.012441</td>\n",
       "      <td>0.072126</td>\n",
       "      <td>0.093333</td>\n",
       "      <td>0.073318</td>\n",
       "      <td>0.014292</td>\n",
       "      <td>-0.000863</td>\n",
       "      <td>-0.009142</td>\n",
       "      <td>-0.259763</td>\n",
       "      <td>-0.051601</td>\n",
       "      <td>0.206869</td>\n",
       "    </tr>\n",
       "    <tr>\n",
       "      <th>Ease of Online booking</th>\n",
       "      <td>0.024842</td>\n",
       "      <td>0.065717</td>\n",
       "      <td>0.715856</td>\n",
       "      <td>0.436961</td>\n",
       "      <td>1.000000</td>\n",
       "      <td>0.458655</td>\n",
       "      <td>0.031873</td>\n",
       "      <td>0.404074</td>\n",
       "      <td>0.030014</td>\n",
       "      <td>0.047032</td>\n",
       "      <td>...</td>\n",
       "      <td>0.107601</td>\n",
       "      <td>0.038762</td>\n",
       "      <td>0.011081</td>\n",
       "      <td>0.035272</td>\n",
       "      <td>0.016179</td>\n",
       "      <td>-0.007972</td>\n",
       "      <td>-0.006951</td>\n",
       "      <td>0.133511</td>\n",
       "      <td>0.171705</td>\n",
       "      <td>0.019509</td>\n",
       "    </tr>\n",
       "    <tr>\n",
       "      <th>Gate location</th>\n",
       "      <td>-0.001330</td>\n",
       "      <td>0.004793</td>\n",
       "      <td>0.336248</td>\n",
       "      <td>0.444757</td>\n",
       "      <td>0.458655</td>\n",
       "      <td>1.000000</td>\n",
       "      <td>-0.001159</td>\n",
       "      <td>0.001688</td>\n",
       "      <td>0.003669</td>\n",
       "      <td>0.003517</td>\n",
       "      <td>...</td>\n",
       "      <td>-0.005873</td>\n",
       "      <td>0.002313</td>\n",
       "      <td>-0.035427</td>\n",
       "      <td>0.001681</td>\n",
       "      <td>-0.003830</td>\n",
       "      <td>0.005136</td>\n",
       "      <td>-0.000333</td>\n",
       "      <td>0.030700</td>\n",
       "      <td>0.000682</td>\n",
       "      <td>-0.006078</td>\n",
       "    </tr>\n",
       "    <tr>\n",
       "      <th>Food and drink</th>\n",
       "      <td>0.023000</td>\n",
       "      <td>0.056994</td>\n",
       "      <td>0.134718</td>\n",
       "      <td>0.004906</td>\n",
       "      <td>0.031873</td>\n",
       "      <td>-0.001159</td>\n",
       "      <td>1.000000</td>\n",
       "      <td>0.234468</td>\n",
       "      <td>0.574556</td>\n",
       "      <td>0.622512</td>\n",
       "      <td>...</td>\n",
       "      <td>0.032498</td>\n",
       "      <td>0.034746</td>\n",
       "      <td>0.087299</td>\n",
       "      <td>0.033993</td>\n",
       "      <td>0.657760</td>\n",
       "      <td>-0.032472</td>\n",
       "      <td>-0.005772</td>\n",
       "      <td>0.063439</td>\n",
       "      <td>0.209936</td>\n",
       "      <td>0.059454</td>\n",
       "    </tr>\n",
       "    <tr>\n",
       "      <th>Online boarding</th>\n",
       "      <td>0.208939</td>\n",
       "      <td>0.214869</td>\n",
       "      <td>0.456970</td>\n",
       "      <td>0.070119</td>\n",
       "      <td>0.404074</td>\n",
       "      <td>0.001688</td>\n",
       "      <td>0.234468</td>\n",
       "      <td>1.000000</td>\n",
       "      <td>0.420211</td>\n",
       "      <td>0.285066</td>\n",
       "      <td>...</td>\n",
       "      <td>0.123950</td>\n",
       "      <td>0.083280</td>\n",
       "      <td>0.204462</td>\n",
       "      <td>0.074573</td>\n",
       "      <td>0.331517</td>\n",
       "      <td>-0.021915</td>\n",
       "      <td>0.042260</td>\n",
       "      <td>0.224803</td>\n",
       "      <td>0.503557</td>\n",
       "      <td>0.189262</td>\n",
       "    </tr>\n",
       "    <tr>\n",
       "      <th>Seat comfort</th>\n",
       "      <td>0.160277</td>\n",
       "      <td>0.157333</td>\n",
       "      <td>0.122658</td>\n",
       "      <td>0.011344</td>\n",
       "      <td>0.030014</td>\n",
       "      <td>0.003669</td>\n",
       "      <td>0.574556</td>\n",
       "      <td>0.420211</td>\n",
       "      <td>1.000000</td>\n",
       "      <td>0.610590</td>\n",
       "      <td>...</td>\n",
       "      <td>0.105559</td>\n",
       "      <td>0.074542</td>\n",
       "      <td>0.191854</td>\n",
       "      <td>0.069218</td>\n",
       "      <td>0.678534</td>\n",
       "      <td>-0.029851</td>\n",
       "      <td>0.026502</td>\n",
       "      <td>0.124399</td>\n",
       "      <td>0.349459</td>\n",
       "      <td>0.159484</td>\n",
       "    </tr>\n",
       "    <tr>\n",
       "      <th>Inflight entertainment</th>\n",
       "      <td>0.076444</td>\n",
       "      <td>0.128740</td>\n",
       "      <td>0.209321</td>\n",
       "      <td>-0.004861</td>\n",
       "      <td>0.047032</td>\n",
       "      <td>0.003517</td>\n",
       "      <td>0.622512</td>\n",
       "      <td>0.285066</td>\n",
       "      <td>0.610590</td>\n",
       "      <td>1.000000</td>\n",
       "      <td>...</td>\n",
       "      <td>0.299692</td>\n",
       "      <td>0.378210</td>\n",
       "      <td>0.120867</td>\n",
       "      <td>0.404855</td>\n",
       "      <td>0.691815</td>\n",
       "      <td>-0.030658</td>\n",
       "      <td>-0.006117</td>\n",
       "      <td>0.148199</td>\n",
       "      <td>0.398059</td>\n",
       "      <td>0.109930</td>\n",
       "    </tr>\n",
       "    <tr>\n",
       "      <th>On-board service</th>\n",
       "      <td>0.057594</td>\n",
       "      <td>0.109526</td>\n",
       "      <td>0.121500</td>\n",
       "      <td>0.068882</td>\n",
       "      <td>0.038833</td>\n",
       "      <td>-0.028373</td>\n",
       "      <td>0.059073</td>\n",
       "      <td>0.155443</td>\n",
       "      <td>0.131971</td>\n",
       "      <td>0.420153</td>\n",
       "      <td>...</td>\n",
       "      <td>0.355495</td>\n",
       "      <td>0.519134</td>\n",
       "      <td>0.243914</td>\n",
       "      <td>0.550782</td>\n",
       "      <td>0.123220</td>\n",
       "      <td>-0.035172</td>\n",
       "      <td>-0.008156</td>\n",
       "      <td>0.056543</td>\n",
       "      <td>0.322383</td>\n",
       "      <td>0.056560</td>\n",
       "    </tr>\n",
       "    <tr>\n",
       "      <th>Leg room service</th>\n",
       "      <td>0.040583</td>\n",
       "      <td>0.133916</td>\n",
       "      <td>0.160473</td>\n",
       "      <td>0.012441</td>\n",
       "      <td>0.107601</td>\n",
       "      <td>-0.005873</td>\n",
       "      <td>0.032498</td>\n",
       "      <td>0.123950</td>\n",
       "      <td>0.105559</td>\n",
       "      <td>0.299692</td>\n",
       "      <td>...</td>\n",
       "      <td>1.000000</td>\n",
       "      <td>0.369544</td>\n",
       "      <td>0.153137</td>\n",
       "      <td>0.368656</td>\n",
       "      <td>0.096370</td>\n",
       "      <td>0.011824</td>\n",
       "      <td>-0.031798</td>\n",
       "      <td>0.138803</td>\n",
       "      <td>0.313131</td>\n",
       "      <td>0.047868</td>\n",
       "    </tr>\n",
       "    <tr>\n",
       "      <th>Baggage handling</th>\n",
       "      <td>-0.047529</td>\n",
       "      <td>0.063184</td>\n",
       "      <td>0.120923</td>\n",
       "      <td>0.072126</td>\n",
       "      <td>0.038762</td>\n",
       "      <td>0.002313</td>\n",
       "      <td>0.034746</td>\n",
       "      <td>0.083280</td>\n",
       "      <td>0.074542</td>\n",
       "      <td>0.378210</td>\n",
       "      <td>...</td>\n",
       "      <td>0.369544</td>\n",
       "      <td>1.000000</td>\n",
       "      <td>0.233122</td>\n",
       "      <td>0.628561</td>\n",
       "      <td>0.095793</td>\n",
       "      <td>-0.008530</td>\n",
       "      <td>-0.037391</td>\n",
       "      <td>0.031321</td>\n",
       "      <td>0.247749</td>\n",
       "      <td>-0.024723</td>\n",
       "    </tr>\n",
       "    <tr>\n",
       "      <th>Checkin service</th>\n",
       "      <td>0.035482</td>\n",
       "      <td>0.073072</td>\n",
       "      <td>0.043193</td>\n",
       "      <td>0.093333</td>\n",
       "      <td>0.011081</td>\n",
       "      <td>-0.035427</td>\n",
       "      <td>0.087299</td>\n",
       "      <td>0.204462</td>\n",
       "      <td>0.191854</td>\n",
       "      <td>0.120867</td>\n",
       "      <td>...</td>\n",
       "      <td>0.153137</td>\n",
       "      <td>0.233122</td>\n",
       "      <td>1.000000</td>\n",
       "      <td>0.237197</td>\n",
       "      <td>0.179583</td>\n",
       "      <td>-0.020339</td>\n",
       "      <td>-0.010563</td>\n",
       "      <td>-0.016751</td>\n",
       "      <td>0.236174</td>\n",
       "      <td>0.032177</td>\n",
       "    </tr>\n",
       "    <tr>\n",
       "      <th>Inflight service</th>\n",
       "      <td>-0.049427</td>\n",
       "      <td>0.057540</td>\n",
       "      <td>0.110441</td>\n",
       "      <td>0.073318</td>\n",
       "      <td>0.035272</td>\n",
       "      <td>0.001681</td>\n",
       "      <td>0.033993</td>\n",
       "      <td>0.074573</td>\n",
       "      <td>0.069218</td>\n",
       "      <td>0.404855</td>\n",
       "      <td>...</td>\n",
       "      <td>0.368656</td>\n",
       "      <td>0.628561</td>\n",
       "      <td>0.237197</td>\n",
       "      <td>1.000000</td>\n",
       "      <td>0.088779</td>\n",
       "      <td>-0.059104</td>\n",
       "      <td>-0.039410</td>\n",
       "      <td>0.022599</td>\n",
       "      <td>0.244741</td>\n",
       "      <td>-0.022670</td>\n",
       "    </tr>\n",
       "    <tr>\n",
       "      <th>Cleanliness</th>\n",
       "      <td>0.053611</td>\n",
       "      <td>0.093149</td>\n",
       "      <td>0.132698</td>\n",
       "      <td>0.014292</td>\n",
       "      <td>0.016179</td>\n",
       "      <td>-0.003830</td>\n",
       "      <td>0.657760</td>\n",
       "      <td>0.331517</td>\n",
       "      <td>0.678534</td>\n",
       "      <td>0.691815</td>\n",
       "      <td>...</td>\n",
       "      <td>0.096370</td>\n",
       "      <td>0.095793</td>\n",
       "      <td>0.179583</td>\n",
       "      <td>0.088779</td>\n",
       "      <td>1.000000</td>\n",
       "      <td>-0.015749</td>\n",
       "      <td>-0.006505</td>\n",
       "      <td>0.079207</td>\n",
       "      <td>0.305198</td>\n",
       "      <td>0.083613</td>\n",
       "    </tr>\n",
       "    <tr>\n",
       "      <th>Arrival Delay in Minutes</th>\n",
       "      <td>-0.012127</td>\n",
       "      <td>-0.002423</td>\n",
       "      <td>-0.019067</td>\n",
       "      <td>-0.000863</td>\n",
       "      <td>-0.007972</td>\n",
       "      <td>0.005136</td>\n",
       "      <td>-0.032472</td>\n",
       "      <td>-0.021915</td>\n",
       "      <td>-0.029851</td>\n",
       "      <td>-0.030658</td>\n",
       "      <td>...</td>\n",
       "      <td>0.011824</td>\n",
       "      <td>-0.008530</td>\n",
       "      <td>-0.020339</td>\n",
       "      <td>-0.059104</td>\n",
       "      <td>-0.015749</td>\n",
       "      <td>1.000000</td>\n",
       "      <td>-0.000395</td>\n",
       "      <td>0.005674</td>\n",
       "      <td>-0.057497</td>\n",
       "      <td>-0.004741</td>\n",
       "    </tr>\n",
       "    <tr>\n",
       "      <th>Female</th>\n",
       "      <td>-0.008928</td>\n",
       "      <td>-0.005828</td>\n",
       "      <td>-0.008974</td>\n",
       "      <td>-0.009142</td>\n",
       "      <td>-0.006951</td>\n",
       "      <td>-0.000333</td>\n",
       "      <td>-0.005772</td>\n",
       "      <td>0.042260</td>\n",
       "      <td>0.026502</td>\n",
       "      <td>-0.006117</td>\n",
       "      <td>...</td>\n",
       "      <td>-0.031798</td>\n",
       "      <td>-0.037391</td>\n",
       "      <td>-0.010563</td>\n",
       "      <td>-0.039410</td>\n",
       "      <td>-0.006505</td>\n",
       "      <td>-0.000395</td>\n",
       "      <td>1.000000</td>\n",
       "      <td>0.006909</td>\n",
       "      <td>-0.012211</td>\n",
       "      <td>-0.031732</td>\n",
       "    </tr>\n",
       "    <tr>\n",
       "      <th>Business travel</th>\n",
       "      <td>0.048524</td>\n",
       "      <td>0.267344</td>\n",
       "      <td>0.105085</td>\n",
       "      <td>-0.259763</td>\n",
       "      <td>0.133511</td>\n",
       "      <td>0.030700</td>\n",
       "      <td>0.063439</td>\n",
       "      <td>0.224803</td>\n",
       "      <td>0.124399</td>\n",
       "      <td>0.148199</td>\n",
       "      <td>...</td>\n",
       "      <td>0.138803</td>\n",
       "      <td>0.031321</td>\n",
       "      <td>-0.016751</td>\n",
       "      <td>0.022599</td>\n",
       "      <td>0.079207</td>\n",
       "      <td>0.005674</td>\n",
       "      <td>0.006909</td>\n",
       "      <td>1.000000</td>\n",
       "      <td>0.449000</td>\n",
       "      <td>-0.308333</td>\n",
       "    </tr>\n",
       "    <tr>\n",
       "      <th>satisfied</th>\n",
       "      <td>0.137167</td>\n",
       "      <td>0.298780</td>\n",
       "      <td>0.284245</td>\n",
       "      <td>-0.051601</td>\n",
       "      <td>0.171705</td>\n",
       "      <td>0.000682</td>\n",
       "      <td>0.209936</td>\n",
       "      <td>0.503557</td>\n",
       "      <td>0.349459</td>\n",
       "      <td>0.398059</td>\n",
       "      <td>...</td>\n",
       "      <td>0.313131</td>\n",
       "      <td>0.247749</td>\n",
       "      <td>0.236174</td>\n",
       "      <td>0.244741</td>\n",
       "      <td>0.305198</td>\n",
       "      <td>-0.057497</td>\n",
       "      <td>-0.012211</td>\n",
       "      <td>0.449000</td>\n",
       "      <td>1.000000</td>\n",
       "      <td>0.187638</td>\n",
       "    </tr>\n",
       "    <tr>\n",
       "      <th>Loyal Customer</th>\n",
       "      <td>0.281674</td>\n",
       "      <td>0.225200</td>\n",
       "      <td>0.007543</td>\n",
       "      <td>0.206869</td>\n",
       "      <td>0.019509</td>\n",
       "      <td>-0.006078</td>\n",
       "      <td>0.059454</td>\n",
       "      <td>0.189262</td>\n",
       "      <td>0.159484</td>\n",
       "      <td>0.109930</td>\n",
       "      <td>...</td>\n",
       "      <td>0.047868</td>\n",
       "      <td>-0.024723</td>\n",
       "      <td>0.032177</td>\n",
       "      <td>-0.022670</td>\n",
       "      <td>0.083613</td>\n",
       "      <td>-0.004741</td>\n",
       "      <td>-0.031732</td>\n",
       "      <td>-0.308333</td>\n",
       "      <td>0.187638</td>\n",
       "      <td>1.000000</td>\n",
       "    </tr>\n",
       "  </tbody>\n",
       "</table>\n",
       "<p>21 rows × 21 columns</p>\n",
       "</div>"
      ],
      "text/plain": [
       "                                        Age  Flight Distance  \\\n",
       "Age                                1.000000         0.099461   \n",
       "Flight Distance                    0.099461         1.000000   \n",
       "Inflight wifi service              0.017859         0.007131   \n",
       "Departure/Arrival time convenient  0.038125        -0.020043   \n",
       "Ease of Online booking             0.024842         0.065717   \n",
       "Gate location                     -0.001330         0.004793   \n",
       "Food and drink                     0.023000         0.056994   \n",
       "Online boarding                    0.208939         0.214869   \n",
       "Seat comfort                       0.160277         0.157333   \n",
       "Inflight entertainment             0.076444         0.128740   \n",
       "On-board service                   0.057594         0.109526   \n",
       "Leg room service                   0.040583         0.133916   \n",
       "Baggage handling                  -0.047529         0.063184   \n",
       "Checkin service                    0.035482         0.073072   \n",
       "Inflight service                  -0.049427         0.057540   \n",
       "Cleanliness                        0.053611         0.093149   \n",
       "Arrival Delay in Minutes          -0.012127        -0.002423   \n",
       "Female                            -0.008928        -0.005828   \n",
       "Business travel                    0.048524         0.267344   \n",
       "satisfied                          0.137167         0.298780   \n",
       "Loyal Customer                     0.281674         0.225200   \n",
       "\n",
       "                                   Inflight wifi service  \\\n",
       "Age                                             0.017859   \n",
       "Flight Distance                                 0.007131   \n",
       "Inflight wifi service                           1.000000   \n",
       "Departure/Arrival time convenient               0.343845   \n",
       "Ease of Online booking                          0.715856   \n",
       "Gate location                                   0.336248   \n",
       "Food and drink                                  0.134718   \n",
       "Online boarding                                 0.456970   \n",
       "Seat comfort                                    0.122658   \n",
       "Inflight entertainment                          0.209321   \n",
       "On-board service                                0.121500   \n",
       "Leg room service                                0.160473   \n",
       "Baggage handling                                0.120923   \n",
       "Checkin service                                 0.043193   \n",
       "Inflight service                                0.110441   \n",
       "Cleanliness                                     0.132698   \n",
       "Arrival Delay in Minutes                       -0.019067   \n",
       "Female                                         -0.008974   \n",
       "Business travel                                 0.105085   \n",
       "satisfied                                       0.284245   \n",
       "Loyal Customer                                  0.007543   \n",
       "\n",
       "                                   Departure/Arrival time convenient  \\\n",
       "Age                                                         0.038125   \n",
       "Flight Distance                                            -0.020043   \n",
       "Inflight wifi service                                       0.343845   \n",
       "Departure/Arrival time convenient                           1.000000   \n",
       "Ease of Online booking                                      0.436961   \n",
       "Gate location                                               0.444757   \n",
       "Food and drink                                              0.004906   \n",
       "Online boarding                                             0.070119   \n",
       "Seat comfort                                                0.011344   \n",
       "Inflight entertainment                                     -0.004861   \n",
       "On-board service                                            0.068882   \n",
       "Leg room service                                            0.012441   \n",
       "Baggage handling                                            0.072126   \n",
       "Checkin service                                             0.093333   \n",
       "Inflight service                                            0.073318   \n",
       "Cleanliness                                                 0.014292   \n",
       "Arrival Delay in Minutes                                   -0.000863   \n",
       "Female                                                     -0.009142   \n",
       "Business travel                                            -0.259763   \n",
       "satisfied                                                  -0.051601   \n",
       "Loyal Customer                                              0.206869   \n",
       "\n",
       "                                   Ease of Online booking  Gate location  \\\n",
       "Age                                              0.024842      -0.001330   \n",
       "Flight Distance                                  0.065717       0.004793   \n",
       "Inflight wifi service                            0.715856       0.336248   \n",
       "Departure/Arrival time convenient                0.436961       0.444757   \n",
       "Ease of Online booking                           1.000000       0.458655   \n",
       "Gate location                                    0.458655       1.000000   \n",
       "Food and drink                                   0.031873      -0.001159   \n",
       "Online boarding                                  0.404074       0.001688   \n",
       "Seat comfort                                     0.030014       0.003669   \n",
       "Inflight entertainment                           0.047032       0.003517   \n",
       "On-board service                                 0.038833      -0.028373   \n",
       "Leg room service                                 0.107601      -0.005873   \n",
       "Baggage handling                                 0.038762       0.002313   \n",
       "Checkin service                                  0.011081      -0.035427   \n",
       "Inflight service                                 0.035272       0.001681   \n",
       "Cleanliness                                      0.016179      -0.003830   \n",
       "Arrival Delay in Minutes                        -0.007972       0.005136   \n",
       "Female                                          -0.006951      -0.000333   \n",
       "Business travel                                  0.133511       0.030700   \n",
       "satisfied                                        0.171705       0.000682   \n",
       "Loyal Customer                                   0.019509      -0.006078   \n",
       "\n",
       "                                   Food and drink  Online boarding  \\\n",
       "Age                                      0.023000         0.208939   \n",
       "Flight Distance                          0.056994         0.214869   \n",
       "Inflight wifi service                    0.134718         0.456970   \n",
       "Departure/Arrival time convenient        0.004906         0.070119   \n",
       "Ease of Online booking                   0.031873         0.404074   \n",
       "Gate location                           -0.001159         0.001688   \n",
       "Food and drink                           1.000000         0.234468   \n",
       "Online boarding                          0.234468         1.000000   \n",
       "Seat comfort                             0.574556         0.420211   \n",
       "Inflight entertainment                   0.622512         0.285066   \n",
       "On-board service                         0.059073         0.155443   \n",
       "Leg room service                         0.032498         0.123950   \n",
       "Baggage handling                         0.034746         0.083280   \n",
       "Checkin service                          0.087299         0.204462   \n",
       "Inflight service                         0.033993         0.074573   \n",
       "Cleanliness                              0.657760         0.331517   \n",
       "Arrival Delay in Minutes                -0.032472        -0.021915   \n",
       "Female                                  -0.005772         0.042260   \n",
       "Business travel                          0.063439         0.224803   \n",
       "satisfied                                0.209936         0.503557   \n",
       "Loyal Customer                           0.059454         0.189262   \n",
       "\n",
       "                                   Seat comfort  Inflight entertainment  ...  \\\n",
       "Age                                    0.160277                0.076444  ...   \n",
       "Flight Distance                        0.157333                0.128740  ...   \n",
       "Inflight wifi service                  0.122658                0.209321  ...   \n",
       "Departure/Arrival time convenient      0.011344               -0.004861  ...   \n",
       "Ease of Online booking                 0.030014                0.047032  ...   \n",
       "Gate location                          0.003669                0.003517  ...   \n",
       "Food and drink                         0.574556                0.622512  ...   \n",
       "Online boarding                        0.420211                0.285066  ...   \n",
       "Seat comfort                           1.000000                0.610590  ...   \n",
       "Inflight entertainment                 0.610590                1.000000  ...   \n",
       "On-board service                       0.131971                0.420153  ...   \n",
       "Leg room service                       0.105559                0.299692  ...   \n",
       "Baggage handling                       0.074542                0.378210  ...   \n",
       "Checkin service                        0.191854                0.120867  ...   \n",
       "Inflight service                       0.069218                0.404855  ...   \n",
       "Cleanliness                            0.678534                0.691815  ...   \n",
       "Arrival Delay in Minutes              -0.029851               -0.030658  ...   \n",
       "Female                                 0.026502               -0.006117  ...   \n",
       "Business travel                        0.124399                0.148199  ...   \n",
       "satisfied                              0.349459                0.398059  ...   \n",
       "Loyal Customer                         0.159484                0.109930  ...   \n",
       "\n",
       "                                   Leg room service  Baggage handling  \\\n",
       "Age                                        0.040583         -0.047529   \n",
       "Flight Distance                            0.133916          0.063184   \n",
       "Inflight wifi service                      0.160473          0.120923   \n",
       "Departure/Arrival time convenient          0.012441          0.072126   \n",
       "Ease of Online booking                     0.107601          0.038762   \n",
       "Gate location                             -0.005873          0.002313   \n",
       "Food and drink                             0.032498          0.034746   \n",
       "Online boarding                            0.123950          0.083280   \n",
       "Seat comfort                               0.105559          0.074542   \n",
       "Inflight entertainment                     0.299692          0.378210   \n",
       "On-board service                           0.355495          0.519134   \n",
       "Leg room service                           1.000000          0.369544   \n",
       "Baggage handling                           0.369544          1.000000   \n",
       "Checkin service                            0.153137          0.233122   \n",
       "Inflight service                           0.368656          0.628561   \n",
       "Cleanliness                                0.096370          0.095793   \n",
       "Arrival Delay in Minutes                   0.011824         -0.008530   \n",
       "Female                                    -0.031798         -0.037391   \n",
       "Business travel                            0.138803          0.031321   \n",
       "satisfied                                  0.313131          0.247749   \n",
       "Loyal Customer                             0.047868         -0.024723   \n",
       "\n",
       "                                   Checkin service  Inflight service  \\\n",
       "Age                                       0.035482         -0.049427   \n",
       "Flight Distance                           0.073072          0.057540   \n",
       "Inflight wifi service                     0.043193          0.110441   \n",
       "Departure/Arrival time convenient         0.093333          0.073318   \n",
       "Ease of Online booking                    0.011081          0.035272   \n",
       "Gate location                            -0.035427          0.001681   \n",
       "Food and drink                            0.087299          0.033993   \n",
       "Online boarding                           0.204462          0.074573   \n",
       "Seat comfort                              0.191854          0.069218   \n",
       "Inflight entertainment                    0.120867          0.404855   \n",
       "On-board service                          0.243914          0.550782   \n",
       "Leg room service                          0.153137          0.368656   \n",
       "Baggage handling                          0.233122          0.628561   \n",
       "Checkin service                           1.000000          0.237197   \n",
       "Inflight service                          0.237197          1.000000   \n",
       "Cleanliness                               0.179583          0.088779   \n",
       "Arrival Delay in Minutes                 -0.020339         -0.059104   \n",
       "Female                                   -0.010563         -0.039410   \n",
       "Business travel                          -0.016751          0.022599   \n",
       "satisfied                                 0.236174          0.244741   \n",
       "Loyal Customer                            0.032177         -0.022670   \n",
       "\n",
       "                                   Cleanliness  Arrival Delay in Minutes  \\\n",
       "Age                                   0.053611                 -0.012127   \n",
       "Flight Distance                       0.093149                 -0.002423   \n",
       "Inflight wifi service                 0.132698                 -0.019067   \n",
       "Departure/Arrival time convenient     0.014292                 -0.000863   \n",
       "Ease of Online booking                0.016179                 -0.007972   \n",
       "Gate location                        -0.003830                  0.005136   \n",
       "Food and drink                        0.657760                 -0.032472   \n",
       "Online boarding                       0.331517                 -0.021915   \n",
       "Seat comfort                          0.678534                 -0.029851   \n",
       "Inflight entertainment                0.691815                 -0.030658   \n",
       "On-board service                      0.123220                 -0.035172   \n",
       "Leg room service                      0.096370                  0.011824   \n",
       "Baggage handling                      0.095793                 -0.008530   \n",
       "Checkin service                       0.179583                 -0.020339   \n",
       "Inflight service                      0.088779                 -0.059104   \n",
       "Cleanliness                           1.000000                 -0.015749   \n",
       "Arrival Delay in Minutes             -0.015749                  1.000000   \n",
       "Female                               -0.006505                 -0.000395   \n",
       "Business travel                       0.079207                  0.005674   \n",
       "satisfied                             0.305198                 -0.057497   \n",
       "Loyal Customer                        0.083613                 -0.004741   \n",
       "\n",
       "                                     Female  Business travel  satisfied  \\\n",
       "Age                               -0.008928         0.048524   0.137167   \n",
       "Flight Distance                   -0.005828         0.267344   0.298780   \n",
       "Inflight wifi service             -0.008974         0.105085   0.284245   \n",
       "Departure/Arrival time convenient -0.009142        -0.259763  -0.051601   \n",
       "Ease of Online booking            -0.006951         0.133511   0.171705   \n",
       "Gate location                     -0.000333         0.030700   0.000682   \n",
       "Food and drink                    -0.005772         0.063439   0.209936   \n",
       "Online boarding                    0.042260         0.224803   0.503557   \n",
       "Seat comfort                       0.026502         0.124399   0.349459   \n",
       "Inflight entertainment            -0.006117         0.148199   0.398059   \n",
       "On-board service                  -0.008156         0.056543   0.322383   \n",
       "Leg room service                  -0.031798         0.138803   0.313131   \n",
       "Baggage handling                  -0.037391         0.031321   0.247749   \n",
       "Checkin service                   -0.010563        -0.016751   0.236174   \n",
       "Inflight service                  -0.039410         0.022599   0.244741   \n",
       "Cleanliness                       -0.006505         0.079207   0.305198   \n",
       "Arrival Delay in Minutes          -0.000395         0.005674  -0.057497   \n",
       "Female                             1.000000         0.006909  -0.012211   \n",
       "Business travel                    0.006909         1.000000   0.449000   \n",
       "satisfied                         -0.012211         0.449000   1.000000   \n",
       "Loyal Customer                    -0.031732        -0.308333   0.187638   \n",
       "\n",
       "                                   Loyal Customer  \n",
       "Age                                      0.281674  \n",
       "Flight Distance                          0.225200  \n",
       "Inflight wifi service                    0.007543  \n",
       "Departure/Arrival time convenient        0.206869  \n",
       "Ease of Online booking                   0.019509  \n",
       "Gate location                           -0.006078  \n",
       "Food and drink                           0.059454  \n",
       "Online boarding                          0.189262  \n",
       "Seat comfort                             0.159484  \n",
       "Inflight entertainment                   0.109930  \n",
       "On-board service                         0.056560  \n",
       "Leg room service                         0.047868  \n",
       "Baggage handling                        -0.024723  \n",
       "Checkin service                          0.032177  \n",
       "Inflight service                        -0.022670  \n",
       "Cleanliness                              0.083613  \n",
       "Arrival Delay in Minutes                -0.004741  \n",
       "Female                                  -0.031732  \n",
       "Business travel                         -0.308333  \n",
       "satisfied                                0.187638  \n",
       "Loyal Customer                           1.000000  \n",
       "\n",
       "[21 rows x 21 columns]"
      ]
     },
     "execution_count": 59,
     "metadata": {},
     "output_type": "execute_result"
    }
   ],
   "source": [
    "all_num_train_df.corr()"
   ]
  },
  {
   "cell_type": "code",
   "execution_count": 36,
   "metadata": {},
   "outputs": [
    {
     "data": {
      "text/plain": [
       "<Axes: >"
      ]
     },
     "execution_count": 36,
     "metadata": {},
     "output_type": "execute_result"
    },
    {
     "data": {
      "image/png": "[encoded data removed]",
      "text/plain": [
       "<Figure size 1000x800 with 2 Axes>"
      ]
     },
     "metadata": {},
     "output_type": "display_data"
    }
   ],
   "source": [
    "fig, ax = plt.subplots(figsize=(10, 8))\n",
    "sns.heatmap(all_num_train_df.corr())"
   ]
  },
  {
   "cell_type": "markdown",
   "metadata": {},
   "source": [
    "> The above plot shows that, unsurprisingly, there is strong correlation between `'Departure Delay in Minutes'` & `'Arrival Delay in Minutes'`. Let's examine their correlation:"
   ]
  },
  {
   "cell_type": "code",
   "execution_count": 23,
   "metadata": {
    "scrolled": true
   },
   "outputs": [
    {
     "data": {
      "text/plain": [
       "0.9611607683973858"
      ]
     },
     "execution_count": 23,
     "metadata": {},
     "output_type": "execute_result"
    }
   ],
   "source": [
    "all_num_train_df.corr()['Departure Delay in Minutes']['Arrival Delay in Minutes']"
   ]
  },
  {
   "cell_type": "markdown",
   "metadata": {},
   "source": [
    "> Indeed, the two are closely correlated. To avoid any issues in modeling arrising from this, let's remove one of those columns. Let's drop the one that has a weaker correlation with `'satisfied'`."
   ]
  },
  {
   "cell_type": "code",
   "execution_count": 24,
   "metadata": {},
   "outputs": [
    {
     "data": {
      "text/plain": [
       "[{'Departure Delay in Minutes': -0.050494210261235115},\n",
       " {'Arrival Delay in Minutes': -0.057496815057623676}]"
      ]
     },
     "execution_count": 24,
     "metadata": {},
     "output_type": "execute_result"
    }
   ],
   "source": [
    "[{col : all_num_train_df.corr()['satisfied'][col]} for col in all_num_train_df.columns if 'Delay' in col]"
   ]
  },
  {
   "cell_type": "markdown",
   "metadata": {},
   "source": [
    "> `'Arrival Delay in Minutes'` has slightly greater correlation with `'satisfied'` than `'Departure Delay in Minutes'`; drop `'Departure Delay in Minutes'` column from the dataframe:"
   ]
  },
  {
   "cell_type": "code",
   "execution_count": 30,
   "metadata": {},
   "outputs": [
    {
     "data": {
      "text/plain": [
       "Index(['Age', 'Flight Distance', 'Inflight wifi service',\n",
       "       'Departure/Arrival time convenient', 'Ease of Online booking',\n",
       "       'Gate location', 'Food and drink', 'Online boarding', 'Seat comfort',\n",
       "       'Inflight entertainment', 'On-board service', 'Leg room service',\n",
       "       'Baggage handling', 'Checkin service', 'Inflight service',\n",
       "       'Cleanliness', 'Arrival Delay in Minutes', 'Female', 'Business travel',\n",
       "       'satisfied', 'Loyal Customer'],\n",
       "      dtype='object')"
      ]
     },
     "execution_count": 30,
     "metadata": {},
     "output_type": "execute_result"
    }
   ],
   "source": [
    "all_num_test_df.columns"
   ]
  },
  {
   "cell_type": "code",
   "execution_count": 28,
   "metadata": {
    "scrolled": true
   },
   "outputs": [
    {
     "ename": "KeyError",
     "evalue": "\"['Departure Delay in Minutes'] not found in axis\"",
     "output_type": "error",
     "traceback": [
      "\u001b[1;31m---------------------------------------------------------------------------\u001b[0m",
      "\u001b[1;31mKeyError\u001b[0m                                  Traceback (most recent call last)",
      "Cell \u001b[1;32mIn[28], line 2\u001b[0m\n\u001b[0;32m      1\u001b[0m \u001b[38;5;66;03m# train test\u001b[39;00m\n\u001b[1;32m----> 2\u001b[0m all_num_train_df\u001b[38;5;241m.\u001b[39mdrop([\u001b[38;5;124m'\u001b[39m\u001b[38;5;124mDeparture Delay in Minutes\u001b[39m\u001b[38;5;124m'\u001b[39m], axis\u001b[38;5;241m=\u001b[39m\u001b[38;5;241m1\u001b[39m, inplace\u001b[38;5;241m=\u001b[39m\u001b[38;5;28;01mTrue\u001b[39;00m)\n\u001b[0;32m      3\u001b[0m \u001b[38;5;66;03m# test set\u001b[39;00m\n\u001b[0;32m      4\u001b[0m all_num_test_df\u001b[38;5;241m.\u001b[39mdrop([\u001b[38;5;124m'\u001b[39m\u001b[38;5;124mDeparture Delay in Minutes\u001b[39m\u001b[38;5;124m'\u001b[39m], axis\u001b[38;5;241m=\u001b[39m\u001b[38;5;241m1\u001b[39m, inplace\u001b[38;5;241m=\u001b[39m\u001b[38;5;28;01mTrue\u001b[39;00m)\n",
      "File \u001b[1;32m~\\anaconda3\\Lib\\site-packages\\pandas\\core\\frame.py:5347\u001b[0m, in \u001b[0;36mDataFrame.drop\u001b[1;34m(self, labels, axis, index, columns, level, inplace, errors)\u001b[0m\n\u001b[0;32m   5199\u001b[0m \u001b[38;5;28;01mdef\u001b[39;00m \u001b[38;5;21mdrop\u001b[39m(\n\u001b[0;32m   5200\u001b[0m     \u001b[38;5;28mself\u001b[39m,\n\u001b[0;32m   5201\u001b[0m     labels: IndexLabel \u001b[38;5;241m|\u001b[39m \u001b[38;5;28;01mNone\u001b[39;00m \u001b[38;5;241m=\u001b[39m \u001b[38;5;28;01mNone\u001b[39;00m,\n\u001b[1;32m   (...)\u001b[0m\n\u001b[0;32m   5208\u001b[0m     errors: IgnoreRaise \u001b[38;5;241m=\u001b[39m \u001b[38;5;124m\"\u001b[39m\u001b[38;5;124mraise\u001b[39m\u001b[38;5;124m\"\u001b[39m,\n\u001b[0;32m   5209\u001b[0m ) \u001b[38;5;241m-\u001b[39m\u001b[38;5;241m>\u001b[39m DataFrame \u001b[38;5;241m|\u001b[39m \u001b[38;5;28;01mNone\u001b[39;00m:\n\u001b[0;32m   5210\u001b[0m \u001b[38;5;250m    \u001b[39m\u001b[38;5;124;03m\"\"\"\u001b[39;00m\n\u001b[0;32m   5211\u001b[0m \u001b[38;5;124;03m    Drop specified labels from rows or columns.\u001b[39;00m\n\u001b[0;32m   5212\u001b[0m \n\u001b[1;32m   (...)\u001b[0m\n\u001b[0;32m   5345\u001b[0m \u001b[38;5;124;03m            weight  1.0     0.8\u001b[39;00m\n\u001b[0;32m   5346\u001b[0m \u001b[38;5;124;03m    \"\"\"\u001b[39;00m\n\u001b[1;32m-> 5347\u001b[0m     \u001b[38;5;28;01mreturn\u001b[39;00m \u001b[38;5;28msuper\u001b[39m()\u001b[38;5;241m.\u001b[39mdrop(\n\u001b[0;32m   5348\u001b[0m         labels\u001b[38;5;241m=\u001b[39mlabels,\n\u001b[0;32m   5349\u001b[0m         axis\u001b[38;5;241m=\u001b[39maxis,\n\u001b[0;32m   5350\u001b[0m         index\u001b[38;5;241m=\u001b[39mindex,\n\u001b[0;32m   5351\u001b[0m         columns\u001b[38;5;241m=\u001b[39mcolumns,\n\u001b[0;32m   5352\u001b[0m         level\u001b[38;5;241m=\u001b[39mlevel,\n\u001b[0;32m   5353\u001b[0m         inplace\u001b[38;5;241m=\u001b[39minplace,\n\u001b[0;32m   5354\u001b[0m         errors\u001b[38;5;241m=\u001b[39merrors,\n\u001b[0;32m   5355\u001b[0m     )\n",
      "File \u001b[1;32m~\\anaconda3\\Lib\\site-packages\\pandas\\core\\generic.py:4711\u001b[0m, in \u001b[0;36mNDFrame.drop\u001b[1;34m(self, labels, axis, index, columns, level, inplace, errors)\u001b[0m\n\u001b[0;32m   4709\u001b[0m \u001b[38;5;28;01mfor\u001b[39;00m axis, labels \u001b[38;5;129;01min\u001b[39;00m axes\u001b[38;5;241m.\u001b[39mitems():\n\u001b[0;32m   4710\u001b[0m     \u001b[38;5;28;01mif\u001b[39;00m labels \u001b[38;5;129;01mis\u001b[39;00m \u001b[38;5;129;01mnot\u001b[39;00m \u001b[38;5;28;01mNone\u001b[39;00m:\n\u001b[1;32m-> 4711\u001b[0m         obj \u001b[38;5;241m=\u001b[39m obj\u001b[38;5;241m.\u001b[39m_drop_axis(labels, axis, level\u001b[38;5;241m=\u001b[39mlevel, errors\u001b[38;5;241m=\u001b[39merrors)\n\u001b[0;32m   4713\u001b[0m \u001b[38;5;28;01mif\u001b[39;00m inplace:\n\u001b[0;32m   4714\u001b[0m     \u001b[38;5;28mself\u001b[39m\u001b[38;5;241m.\u001b[39m_update_inplace(obj)\n",
      "File \u001b[1;32m~\\anaconda3\\Lib\\site-packages\\pandas\\core\\generic.py:4753\u001b[0m, in \u001b[0;36mNDFrame._drop_axis\u001b[1;34m(self, labels, axis, level, errors, only_slice)\u001b[0m\n\u001b[0;32m   4751\u001b[0m         new_axis \u001b[38;5;241m=\u001b[39m axis\u001b[38;5;241m.\u001b[39mdrop(labels, level\u001b[38;5;241m=\u001b[39mlevel, errors\u001b[38;5;241m=\u001b[39merrors)\n\u001b[0;32m   4752\u001b[0m     \u001b[38;5;28;01melse\u001b[39;00m:\n\u001b[1;32m-> 4753\u001b[0m         new_axis \u001b[38;5;241m=\u001b[39m axis\u001b[38;5;241m.\u001b[39mdrop(labels, errors\u001b[38;5;241m=\u001b[39merrors)\n\u001b[0;32m   4754\u001b[0m     indexer \u001b[38;5;241m=\u001b[39m axis\u001b[38;5;241m.\u001b[39mget_indexer(new_axis)\n\u001b[0;32m   4756\u001b[0m \u001b[38;5;66;03m# Case for non-unique axis\u001b[39;00m\n\u001b[0;32m   4757\u001b[0m \u001b[38;5;28;01melse\u001b[39;00m:\n",
      "File \u001b[1;32m~\\anaconda3\\Lib\\site-packages\\pandas\\core\\indexes\\base.py:6992\u001b[0m, in \u001b[0;36mIndex.drop\u001b[1;34m(self, labels, errors)\u001b[0m\n\u001b[0;32m   6990\u001b[0m \u001b[38;5;28;01mif\u001b[39;00m mask\u001b[38;5;241m.\u001b[39many():\n\u001b[0;32m   6991\u001b[0m     \u001b[38;5;28;01mif\u001b[39;00m errors \u001b[38;5;241m!=\u001b[39m \u001b[38;5;124m\"\u001b[39m\u001b[38;5;124mignore\u001b[39m\u001b[38;5;124m\"\u001b[39m:\n\u001b[1;32m-> 6992\u001b[0m         \u001b[38;5;28;01mraise\u001b[39;00m \u001b[38;5;167;01mKeyError\u001b[39;00m(\u001b[38;5;124mf\u001b[39m\u001b[38;5;124m\"\u001b[39m\u001b[38;5;132;01m{\u001b[39;00mlabels[mask]\u001b[38;5;241m.\u001b[39mtolist()\u001b[38;5;132;01m}\u001b[39;00m\u001b[38;5;124m not found in axis\u001b[39m\u001b[38;5;124m\"\u001b[39m)\n\u001b[0;32m   6993\u001b[0m     indexer \u001b[38;5;241m=\u001b[39m indexer[\u001b[38;5;241m~\u001b[39mmask]\n\u001b[0;32m   6994\u001b[0m \u001b[38;5;28;01mreturn\u001b[39;00m \u001b[38;5;28mself\u001b[39m\u001b[38;5;241m.\u001b[39mdelete(indexer)\n",
      "\u001b[1;31mKeyError\u001b[0m: \"['Departure Delay in Minutes'] not found in axis\""
     ]
    }
   ],
   "source": [
    "# train test\n",
    "all_num_train_df.drop(['Departure Delay in Minutes'], axis=1, inplace=True)\n",
    "# test set\n",
    "all_num_test_df.drop(['Departure Delay in Minutes'], axis=1, inplace=True)"
   ]
  },
  {
   "cell_type": "code",
   "execution_count": 37,
   "metadata": {},
   "outputs": [
    {
     "data": {
      "image/png": "[encoded data removed]",
      "text/plain": [
       "<Figure size 800x550 with 20 Axes>"
      ]
     },
     "metadata": {},
     "output_type": "display_data"
    }
   ],
   "source": [
    "all_num_train_df.drop('satisfied', axis=1).plot.hist(subplots=True, layout=(4, 5));"
   ]
  },
  {
   "cell_type": "code",
   "execution_count": 63,
   "metadata": {
    "scrolled": true
   },
   "outputs": [
    {
     "data": {
      "image/png": "[encoded data removed]",
      "text/plain": [
       "<Figure size 800x550 with 1 Axes>"
      ]
     },
     "metadata": {},
     "output_type": "display_data"
    }
   ],
   "source": [
    "sns.histplot(all_num_train_df['satisfied'])\n",
    "plt.title('Target feature Distribution')\n",
    "plt.xticks(ticks=[0, 1], labels=['Not Satisfied', 'Satisfied']);"
   ]
  },
  {
   "cell_type": "markdown",
   "metadata": {},
   "source": [
    "#### Minimize Number of Features to Model\n",
    "(Consider using the list developed in this subsection in modeling to reduce model complexity.)  \n",
    "To minimize the number of predictor features, remove any features whose correlation with the target feature is smaller than .1:"
   ]
  },
  {
   "cell_type": "code",
   "execution_count": 39,
   "metadata": {},
   "outputs": [
    {
     "data": {
      "text/plain": [
       "Text(0.5, 0.8, \"Feature Correlation w/ 'satisfied'\")"
      ]
     },
     "execution_count": 39,
     "metadata": {},
     "output_type": "execute_result"
    },
    {
     "data": {
      "image/png": "[encoded data removed]",
      "text/plain": [
       "<Figure size 800x550 with 1 Axes>"
      ]
     },
     "metadata": {},
     "output_type": "display_data"
    }
   ],
   "source": [
    "# view ordered list of features with their correlation to 'satisfied'\n",
    "all_num_train_df.corr()['satisfied'].abs().sort_values().plot(kind='bar', color=['purple', 'pink'])\n",
    "plt.title(\"Feature Correlation w/ 'satisfied'\", fontsize=18, y=.8)"
   ]
  },
  {
   "cell_type": "code",
   "execution_count": 40,
   "metadata": {},
   "outputs": [
    {
     "data": {
      "text/plain": [
       "['Age',\n",
       " 'Flight Distance',\n",
       " 'Inflight wifi service',\n",
       " 'Ease of Online booking',\n",
       " 'Food and drink',\n",
       " 'Online boarding',\n",
       " 'Seat comfort',\n",
       " 'Inflight entertainment',\n",
       " 'On-board service',\n",
       " 'Leg room service',\n",
       " 'Baggage handling',\n",
       " 'Checkin service',\n",
       " 'Inflight service',\n",
       " 'Cleanliness',\n",
       " 'Business travel',\n",
       " 'Loyal Customer']"
      ]
     },
     "execution_count": 40,
     "metadata": {},
     "output_type": "execute_result"
    }
   ],
   "source": [
    "# get a list of columns whose correlation to 'satisfied' is greater than .1 (& exclude 'satisfied')\n",
    "high_corr_list = []\n",
    "for col in all_num_train_df:\n",
    "    if 1 != abs(all_num_train_df[col].corr(all_num_train_df['satisfied'])) >= .1:\n",
    "        high_corr_list.append(col)\n",
    "        \n",
    "high_corr_list"
   ]
  },
  {
   "cell_type": "code",
   "execution_count": 45,
   "metadata": {},
   "outputs": [],
   "source": [
    "# create a new dataframe consisting of features with high correlation only\n",
    "X_train = all_num_train_df[high_corr_list]\n",
    "\n",
    "# test dataframe\n",
    "X_test = all_num_test_df[high_corr_list]"
   ]
  },
  {
   "cell_type": "markdown",
   "metadata": {},
   "source": [
    "Because the range of values found in each of the columns is inconsistent, the values need to be scaled before modeling."
   ]
  },
  {
   "cell_type": "code",
   "execution_count": 46,
   "metadata": {},
   "outputs": [],
   "source": [
    "scaler = StandardScaler()"
   ]
  },
  {
   "cell_type": "code",
   "execution_count": 47,
   "metadata": {},
   "outputs": [],
   "source": [
    "scaler = StandardScaler()\n",
    "\n",
    "X_train_scaled = pd.DataFrame(scaler.fit_transform(all_num_train_df.drop(['satisfied'], axis=1)), columns = all_num_train_df.drop(['satisfied'], axis=1).columns)"
   ]
  },
  {
   "cell_type": "code",
   "execution_count": 48,
   "metadata": {},
   "outputs": [],
   "source": [
    "y_train = all_num_train_df['satisfied']"
   ]
  },
  {
   "cell_type": "code",
   "execution_count": 49,
   "metadata": {},
   "outputs": [],
   "source": [
    "X_test_scaled = pd.DataFrame(scaler.transform(all_num_test_df.drop(['satisfied'], axis=1)), columns = all_num_test_df.drop(['satisfied'], axis=1).columns)"
   ]
  },
  {
   "cell_type": "code",
   "execution_count": 50,
   "metadata": {},
   "outputs": [],
   "source": [
    "y_test = all_num_test_df['satisfied']"
   ]
  },
  {
   "cell_type": "markdown",
   "metadata": {},
   "source": [
    "## Modeling\n",
    "In this section, several attempts at modeling are made, with several different algorithms."
   ]
  },
  {
   "cell_type": "code",
   "execution_count": 51,
   "metadata": {},
   "outputs": [],
   "source": [
    "baseline_log = LogisticRegression()"
   ]
  },
  {
   "cell_type": "code",
   "execution_count": 52,
   "metadata": {},
   "outputs": [
    {
     "data": {
      "text/html": [
       "<style>#sk-container-id-1 {color: black;}#sk-container-id-1 pre{padding: 0;}#sk-container-id-1 div.sk-toggleable {background-color: white;}#sk-container-id-1 label.sk-toggleable__label {cursor: pointer;display: block;width: 100%;margin-bottom: 0;padding: 0.3em;box-sizing: border-box;text-align: center;}#sk-container-id-1 label.sk-toggleable__label-arrow:before {content: \"▸\";float: left;margin-right: 0.25em;color: #696969;}#sk-container-id-1 label.sk-toggleable__label-arrow:hover:before {color: black;}#sk-container-id-1 div.sk-estimator:hover label.sk-toggleable__label-arrow:before {color: black;}#sk-container-id-1 div.sk-toggleable__content {max-height: 0;max-width: 0;overflow: hidden;text-align: left;background-color: #f0f8ff;}#sk-container-id-1 div.sk-toggleable__content pre {margin: 0.2em;color: black;border-radius: 0.25em;background-color: #f0f8ff;}#sk-container-id-1 input.sk-toggleable__control:checked~div.sk-toggleable__content {max-height: 200px;max-width: 100%;overflow: auto;}#sk-container-id-1 input.sk-toggleable__control:checked~label.sk-toggleable__label-arrow:before {content: \"▾\";}#sk-container-id-1 div.sk-estimator input.sk-toggleable__control:checked~label.sk-toggleable__label {background-color: #d4ebff;}#sk-container-id-1 div.sk-label input.sk-toggleable__control:checked~label.sk-toggleable__label {background-color: #d4ebff;}#sk-container-id-1 input.sk-hidden--visually {border: 0;clip: rect(1px 1px 1px 1px);clip: rect(1px, 1px, 1px, 1px);height: 1px;margin: -1px;overflow: hidden;padding: 0;position: absolute;width: 1px;}#sk-container-id-1 div.sk-estimator {font-family: monospace;background-color: #f0f8ff;border: 1px dotted black;border-radius: 0.25em;box-sizing: border-box;margin-bottom: 0.5em;}#sk-container-id-1 div.sk-estimator:hover {background-color: #d4ebff;}#sk-container-id-1 div.sk-parallel-item::after {content: \"\";width: 100%;border-bottom: 1px solid gray;flex-grow: 1;}#sk-container-id-1 div.sk-label:hover label.sk-toggleable__label {background-color: #d4ebff;}#sk-container-id-1 div.sk-serial::before {content: \"\";position: absolute;border-left: 1px solid gray;box-sizing: border-box;top: 0;bottom: 0;left: 50%;z-index: 0;}#sk-container-id-1 div.sk-serial {display: flex;flex-direction: column;align-items: center;background-color: white;padding-right: 0.2em;padding-left: 0.2em;position: relative;}#sk-container-id-1 div.sk-item {position: relative;z-index: 1;}#sk-container-id-1 div.sk-parallel {display: flex;align-items: stretch;justify-content: center;background-color: white;position: relative;}#sk-container-id-1 div.sk-item::before, #sk-container-id-1 div.sk-parallel-item::before {content: \"\";position: absolute;border-left: 1px solid gray;box-sizing: border-box;top: 0;bottom: 0;left: 50%;z-index: -1;}#sk-container-id-1 div.sk-parallel-item {display: flex;flex-direction: column;z-index: 1;position: relative;background-color: white;}#sk-container-id-1 div.sk-parallel-item:first-child::after {align-self: flex-end;width: 50%;}#sk-container-id-1 div.sk-parallel-item:last-child::after {align-self: flex-start;width: 50%;}#sk-container-id-1 div.sk-parallel-item:only-child::after {width: 0;}#sk-container-id-1 div.sk-dashed-wrapped {border: 1px dashed gray;margin: 0 0.4em 0.5em 0.4em;box-sizing: border-box;padding-bottom: 0.4em;background-color: white;}#sk-container-id-1 div.sk-label label {font-family: monospace;font-weight: bold;display: inline-block;line-height: 1.2em;}#sk-container-id-1 div.sk-label-container {text-align: center;}#sk-container-id-1 div.sk-container {/* jupyter's `normalize.less` sets `[hidden] { display: none; }` but bootstrap.min.css set `[hidden] { display: none !important; }` so we also need the `!important` here to be able to override the default hidden behavior on the sphinx rendered scikit-learn.org. See: https://github.com/scikit-learn/scikit-learn/issues/21755 */display: inline-block !important;position: relative;}#sk-container-id-1 div.sk-text-repr-fallback {display: none;}</style><div id=\"sk-container-id-1\" class=\"sk-top-container\"><div class=\"sk-text-repr-fallback\"><pre>LogisticRegression()</pre><b>In a Jupyter environment, please rerun this cell to show the HTML representation or trust the notebook. <br />On GitHub, the HTML representation is unable to render, please try loading this page with nbviewer.org.</b></div><div class=\"sk-container\" hidden><div class=\"sk-item\"><div class=\"sk-estimator sk-toggleable\"><input class=\"sk-toggleable__control sk-hidden--visually\" id=\"sk-estimator-id-1\" type=\"checkbox\" checked><label for=\"sk-estimator-id-1\" class=\"sk-toggleable__label sk-toggleable__label-arrow\">LogisticRegression</label><div class=\"sk-toggleable__content\"><pre>LogisticRegression()</pre></div></div></div></div></div>"
      ],
      "text/plain": [
       "LogisticRegression()"
      ]
     },
     "execution_count": 52,
     "metadata": {},
     "output_type": "execute_result"
    }
   ],
   "source": [
    "baseline_log.fit(X_train_scaled, y_train)"
   ]
  },
  {
   "cell_type": "code",
   "execution_count": 53,
   "metadata": {},
   "outputs": [],
   "source": [
    "y_hat_train = baseline_log.predict(X_train_scaled)"
   ]
  },
  {
   "cell_type": "code",
   "execution_count": 54,
   "metadata": {},
   "outputs": [],
   "source": [
    "y_hat_test = baseline_log.predict(X_test_scaled)"
   ]
  },
  {
   "cell_type": "markdown",
   "metadata": {},
   "source": [
    "#### Model Assesment\n",
    "The business case considered for this report dictates that model performance be measured by fit's ability to find those who will be dissatisfied, thus recall for calss 0 is the metric of focus."
   ]
  },
  {
   "cell_type": "code",
   "execution_count": 55,
   "metadata": {},
   "outputs": [],
   "source": [
    "train_class_rep = pd.DataFrame(classification_report(y_train, y_hat_train, output_dict=True))"
   ]
  },
  {
   "cell_type": "code",
   "execution_count": 56,
   "metadata": {},
   "outputs": [],
   "source": [
    "test_class_rep = pd.DataFrame(classification_report(y_test, y_hat_test, output_dict=True))"
   ]
  },
  {
   "cell_type": "code",
   "execution_count": 64,
   "metadata": {},
   "outputs": [
    {
     "data": {
      "text/html": [
       "<div>\n",
       "<style scoped>\n",
       "    .dataframe tbody tr th:only-of-type {\n",
       "        vertical-align: middle;\n",
       "    }\n",
       "\n",
       "    .dataframe tbody tr th {\n",
       "        vertical-align: top;\n",
       "    }\n",
       "\n",
       "    .dataframe thead th {\n",
       "        text-align: right;\n",
       "    }\n",
       "</style>\n",
       "<table border=\"1\" class=\"dataframe\">\n",
       "  <thead>\n",
       "    <tr style=\"text-align: right;\">\n",
       "      <th></th>\n",
       "      <th>0</th>\n",
       "      <th>1</th>\n",
       "      <th>accuracy</th>\n",
       "      <th>macro avg</th>\n",
       "      <th>weighted avg</th>\n",
       "    </tr>\n",
       "  </thead>\n",
       "  <tbody>\n",
       "    <tr>\n",
       "      <th>precision</th>\n",
       "      <td>0.425327</td>\n",
       "      <td>0.526136</td>\n",
       "      <td>0.453688</td>\n",
       "      <td>0.475731</td>\n",
       "      <td>0.481882</td>\n",
       "    </tr>\n",
       "    <tr>\n",
       "      <th>recall</th>\n",
       "      <td>0.696308</td>\n",
       "      <td>0.263844</td>\n",
       "      <td>0.453688</td>\n",
       "      <td>0.480076</td>\n",
       "      <td>0.453688</td>\n",
       "    </tr>\n",
       "    <tr>\n",
       "      <th>f1-score</th>\n",
       "      <td>0.528084</td>\n",
       "      <td>0.351446</td>\n",
       "      <td>0.453688</td>\n",
       "      <td>0.439765</td>\n",
       "      <td>0.428987</td>\n",
       "    </tr>\n",
       "    <tr>\n",
       "      <th>support</th>\n",
       "      <td>11403.000000</td>\n",
       "      <td>14573.000000</td>\n",
       "      <td>0.453688</td>\n",
       "      <td>25976.000000</td>\n",
       "      <td>25976.000000</td>\n",
       "    </tr>\n",
       "  </tbody>\n",
       "</table>\n",
       "</div>"
      ],
      "text/plain": [
       "                      0             1  accuracy     macro avg  weighted avg\n",
       "precision      0.425327      0.526136  0.453688      0.475731      0.481882\n",
       "recall         0.696308      0.263844  0.453688      0.480076      0.453688\n",
       "f1-score       0.528084      0.351446  0.453688      0.439765      0.428987\n",
       "support    11403.000000  14573.000000  0.453688  25976.000000  25976.000000"
      ]
     },
     "execution_count": 64,
     "metadata": {},
     "output_type": "execute_result"
    }
   ],
   "source": [
    "test_class_rep"
   ]
  },
  {
   "cell_type": "code",
   "execution_count": 57,
   "metadata": {},
   "outputs": [],
   "source": [
    "pos_clas_df = pd.concat([pd.DataFrame(train_class_rep['1']), pd.DataFrame(test_class_rep['1'])], axis=1)"
   ]
  },
  {
   "cell_type": "code",
   "execution_count": 65,
   "metadata": {
    "collapsed": true
   },
   "outputs": [
    {
     "data": {
      "text/plain": [
       "<Axes: >"
      ]
     },
     "execution_count": 65,
     "metadata": {},
     "output_type": "execute_result"
    },
    {
     "data": {
      "image/png": "[encoded data removed]",
      "text/plain": [
       "<Figure size 800x550 with 1 Axes>"
      ]
     },
     "metadata": {},
     "output_type": "display_data"
    }
   ],
   "source": [
    "train_class_rep['0'].drop('support').plot(kind='bar', stacked=False)\n",
    "test_class_rep['0'].drop('support').plot(kind='bar', color='salmon', stacked=False)"
   ]
  },
  {
   "cell_type": "markdown",
   "metadata": {},
   "source": [
    "The model underperforms on the test set compared to the train set. It's underfit. Regularization may reduce this."
   ]
  },
  {
   "cell_type": "code",
   "execution_count": 78,
   "metadata": {},
   "outputs": [
    {
     "data": {
      "text/plain": [
       "{2: 0.2638440952446305,\n",
       " 20: 0.2638440952446305,\n",
       " 200: 0.2638440952446305,\n",
       " 2000: 0.2638440952446305,\n",
       " 20000: 0.2638440952446305}"
      ]
     },
     "execution_count": 78,
     "metadata": {},
     "output_type": "execute_result"
    }
   ],
   "source": [
    "# logistic regression with various regularization levels\n",
    "recall_list = {}\n",
    "\n",
    "for c in [2, 20, 200, 2000, 20000]:\n",
    "    log_reg = LogisticRegression(C = c, random_state=42)\n",
    "    log_reg.fit(X_train_scaled, y_train)\n",
    "    test_pred = log_reg.predict(X_test_scaled)\n",
    "    recall_list[c] = recall_score(y_test, test_pred)\n",
    "\n",
    "recall_list"
   ]
  },
  {
   "cell_type": "markdown",
   "metadata": {},
   "source": [
    "> Regularization doesn't help to improve model's performance.\n",
    "Now let's try a different modeling algorithm."
   ]
  },
  {
   "cell_type": "code",
   "execution_count": 83,
   "metadata": {},
   "outputs": [
    {
     "data": {
      "text/plain": [
       "0.23996431757359502"
      ]
     },
     "execution_count": 83,
     "metadata": {},
     "output_type": "execute_result"
    }
   ],
   "source": [
    "rfc = RandomForestClassifier(random_state=42)\n",
    "\n",
    "rfc.fit(X_train_scaled, y_train)\n",
    "\n",
    "rfc_train_pred = rfc.predict(X_train_scaled)\n",
    "rfc_test_pred = rfc.predict(X_test_scaled)\n",
    "\n",
    "recall_score(y_test, rfc_test_pred)"
   ]
  },
  {
   "cell_type": "markdown",
   "metadata": {},
   "source": [
    "> That's even worse than the logistic regression classifier! Maybe tweaking some of the hyperparameters will produce better results."
   ]
  },
  {
   "cell_type": "code",
   "execution_count": null,
   "metadata": {},
   "outputs": [],
   "source": [
    "grid = "
   ]
  },
  {
   "cell_type": "markdown",
   "metadata": {},
   "source": [
    "new modeling techniques, model stacking, use seaborn, create (local) dashboard (most important features, make predictions), final nontebook contains only pipelines"
   ]
  }
 ],
 "metadata": {
  "kernelspec": {
   "display_name": "Python 3 (ipykernel)",
   "language": "python",
   "name": "python3"
  },
  "language_info": {
   "codemirror_mode": {
    "name": "ipython",
    "version": 3
   },
   "file_extension": ".py",
   "mimetype": "text/x-python",
   "name": "python",
   "nbconvert_exporter": "python",
   "pygments_lexer": "ipython3",
   "version": "3.11.5"
  }
 },
 "nbformat": 4,
 "nbformat_minor": 4
}

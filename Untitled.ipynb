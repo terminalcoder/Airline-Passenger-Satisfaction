{
 "cells": [
  {
   "cell_type": "code",
   "execution_count": null,
   "id": "dff25dd3",
   "metadata": {},
   "outputs": [],
   "source": [
    "conda activate cls-env"
   ]
  }
 ],
 "metadata": {
  "kernelspec": {
   "display_name": "Python (learn-env)",
   "language": "python",
   "name": "learn-env"
  }
 },
 "nbformat": 4,
 "nbformat_minor": 5
}
